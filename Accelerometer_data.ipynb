{
 "cells": [
  {
   "cell_type": "code",
   "execution_count": 1,
   "metadata": {},
   "outputs": [],
   "source": [
    "#import packages \n",
    "import numpy as np\n",
    "import pandas as pd\n",
    "from tensorflow import keras \n"
   ]
  },
  {
   "cell_type": "code",
   "execution_count": 2,
   "metadata": {},
   "outputs": [],
   "source": [
    "#import data \n",
    "path = 'data/'\n",
    "data_1 = pd.read_csv(path + '20180821 - sitting_chewing.csv')\n",
    "data_2 = pd.read_csv(path + '20180905 - walking.csv')\n",
    "data_3 = pd.read_csv(path + '20180917 - 0003 - jglad - sitting.csv')\n",
    "data_4 = pd.read_csv(path + '20180917 - 0001 - jglad - walking_chewing.csv')\n",
    "data_5 = pd.read_csv(path + 'Walking_chewing_2.csv')\n",
    "data_6 = pd.read_csv(path + '20180917 - 0004 - jglad - sitting.csv')\n",
    "data_7 = pd.read_csv(path + '20180917 - 0001 - jglad - sitting.csv')\n",
    "data_8 = pd.read_csv(path + '20180917 - 0004 - jglad - sitting_chewing.csv')"
   ]
  },
  {
   "cell_type": "code",
   "execution_count": 3,
   "metadata": {},
   "outputs": [],
   "source": [
    "data_1 = data_1.dropna(axis=0).values\n",
    "data_2 = data_2.dropna(axis=0).values\n",
    "data_3 = data_3.dropna(axis=0).values\n",
    "data_4 = data_4.dropna(axis=0).values\n",
    "data_5 = data_5.dropna(axis=0).values\n",
    "data_6 = data_6.dropna(axis=0).values\n",
    "data_7 = data_7.dropna(axis=0).values\n",
    "data_8 = data_8.dropna(axis=0).values"
   ]
  },
  {
   "cell_type": "code",
   "execution_count": 4,
   "metadata": {},
   "outputs": [],
   "source": [
    "data_1 = np.vstack([data_1,data_8])\n",
    "data_3 = np.vstack([data_3,data_6,data_7])\n",
    "data_4 = np.vstack([data_4,data_5])"
   ]
  },
  {
   "cell_type": "code",
   "execution_count": 5,
   "metadata": {},
   "outputs": [],
   "source": [
    "#get velocity \n",
    "vel_1 = np.diff(data_1,axis=0)\n",
    "vel_2 = np.diff(data_2,axis=0)\n",
    "vel_3 = np.diff(data_3,axis=0)\n",
    "vel_4 = np.diff(data_4,axis=0)"
   ]
  },
  {
   "cell_type": "code",
   "execution_count": 6,
   "metadata": {},
   "outputs": [],
   "source": [
    "data_1 = np.hstack([data_1[:len(data_1)-1,:],vel_1])\n",
    "data_2 = np.hstack([data_2[:len(data_2)-1,:],vel_2])\n",
    "data_3 = np.hstack([data_3[:len(data_3)-1,:],vel_3])\n",
    "data_4 = np.hstack([data_4[:len(data_4)-1,:],vel_4])"
   ]
  },
  {
   "cell_type": "code",
   "execution_count": 7,
   "metadata": {},
   "outputs": [
    {
     "data": {
      "text/plain": [
       "(45953, 8)"
      ]
     },
     "execution_count": 7,
     "metadata": {},
     "output_type": "execute_result"
    }
   ],
   "source": [
    "data_4.shape\n"
   ]
  },
  {
   "cell_type": "code",
   "execution_count": 8,
   "metadata": {},
   "outputs": [],
   "source": [
    "data_1 = np.hstack([data_1, np.zeros(len(data_1)).reshape(len(data_1),1)])\n",
    "data_2 = np.hstack([data_2, np.ones(len(data_2)).reshape(len(data_2),1)])\n",
    "data_3 = np.hstack([data_3, 2*np.ones(len(data_3)).reshape(len(data_3),1)])\n",
    "data_4 = np.hstack([data_4, 3*np.ones(len(data_4)).reshape(len(data_4),1)])"
   ]
  },
  {
   "cell_type": "code",
   "execution_count": 9,
   "metadata": {},
   "outputs": [],
   "source": [
    "data = np.vstack([data_1, data_2, data_3, data_4])\n",
    "X = data[:,:data.shape[1] - 1]\n",
    "Y = data[:,data.shape[1] - 1]"
   ]
  },
  {
   "cell_type": "code",
   "execution_count": 10,
   "metadata": {},
   "outputs": [
    {
     "data": {
      "text/plain": [
       "array([[-8.640e+02, -4.128e+03,  5.600e+02, ..., -1.280e+02, -3.480e+02,\n",
       "         3.000e+00],\n",
       "       [-7.520e+02, -3.808e+03,  4.320e+02, ..., -4.800e+01,  3.400e+01,\n",
       "         3.000e+00],\n",
       "       [-1.056e+03, -3.776e+03,  3.840e+02, ...,  2.400e+02,  9.000e+00,\n",
       "         3.000e+00],\n",
       "       ...,\n",
       "       [-1.440e+02,  2.032e+03,  3.008e+03, ...,  0.000e+00,  1.710e+02,\n",
       "         3.000e+00],\n",
       "       [-1.920e+02,  2.320e+03,  3.008e+03, ...,  0.000e+00, -1.710e+02,\n",
       "         3.000e+00],\n",
       "       [-1.440e+02,  2.032e+03,  3.008e+03, ..., -1.600e+01,  1.630e+02,\n",
       "         3.000e+00]])"
      ]
     },
     "execution_count": 10,
     "metadata": {},
     "output_type": "execute_result"
    }
   ],
   "source": [
    "data_4"
   ]
  },
  {
   "cell_type": "code",
   "execution_count": 11,
   "metadata": {},
   "outputs": [],
   "source": [
    "#standard scaling\n",
    "import sklearn.preprocessing as pre\n",
    "X_scaled =  pre.scale(X)"
   ]
  },
  {
   "cell_type": "code",
   "execution_count": 12,
   "metadata": {},
   "outputs": [],
   "source": [
    "#split into training and test set\n",
    "from sklearn.model_selection import train_test_split\n",
    "trainX, testX, trainY, testY = train_test_split(X_scaled,Y,test_size=0.3,random_state=0)"
   ]
  },
  {
   "cell_type": "code",
   "execution_count": 13,
   "metadata": {},
   "outputs": [],
   "source": [
    "#do one-hot encoding\n",
    "from sklearn.preprocessing import OneHotEncoder \n",
    "from sklearn.preprocessing import LabelEncoder\n",
    "\n",
    "enc = OneHotEncoder(sparse=False)"
   ]
  },
  {
   "cell_type": "code",
   "execution_count": 14,
   "metadata": {},
   "outputs": [],
   "source": [
    "integer_encoded_train = trainY.reshape(len(trainY), 1)\n",
    "onehot_encoded_train = enc.fit_transform(integer_encoded_train)\n",
    "\n",
    "integer_encoded_test = testY.reshape(len(testY), 1)\n",
    "onehot_encoded_test = enc.fit_transform(integer_encoded_test)"
   ]
  },
  {
   "cell_type": "code",
   "execution_count": 15,
   "metadata": {},
   "outputs": [
    {
     "data": {
      "text/plain": [
       "array([[0., 0., 1., 0.],\n",
       "       [1., 0., 0., 0.],\n",
       "       [0., 0., 1., 0.],\n",
       "       ...,\n",
       "       [1., 0., 0., 0.],\n",
       "       [0., 0., 1., 0.],\n",
       "       [0., 1., 0., 0.]])"
      ]
     },
     "execution_count": 15,
     "metadata": {},
     "output_type": "execute_result"
    }
   ],
   "source": [
    "onehot_encoded_train"
   ]
  },
  {
   "cell_type": "code",
   "execution_count": 16,
   "metadata": {},
   "outputs": [],
   "source": [
    "#set up neural network\n",
    "model = keras.Sequential()\n"
   ]
  },
  {
   "cell_type": "code",
   "execution_count": 17,
   "metadata": {},
   "outputs": [],
   "source": [
    "model.add(keras.layers.Dense(\n",
    "  units = trainX.shape[1] - 1,\n",
    "  input_dim = trainX.shape[1],\n",
    "  activation = 'tanh'\n",
    "))\n",
    "\n",
    "model.add(keras.layers.Dense(\n",
    "  units = onehot_encoded_train.shape[1],\n",
    "  input_dim = trainX.shape[1],\n",
    "    activation = 'softmax'    \n",
    "))\n"
   ]
  },
  {
   "cell_type": "code",
   "execution_count": 18,
   "metadata": {},
   "outputs": [],
   "source": [
    "model.compile(loss = 'mean_squared_error',\n",
    "             optimizer = 'Adam',\n",
    "             metrics = ['categorical_accuracy'])"
   ]
  },
  {
   "cell_type": "code",
   "execution_count": 20,
   "metadata": {},
   "outputs": [
    {
     "name": "stdout",
     "output_type": "stream",
     "text": [
      "Train on 543746 samples, validate on 135937 samples\n",
      "Epoch 1/20\n",
      "543746/543746 [==============================] - 3s 6us/step - loss: 0.0918 - categorical_accuracy: 0.7414 - val_loss: 0.0920 - val_categorical_accuracy: 0.7415\n",
      "Epoch 2/20\n",
      "543746/543746 [==============================] - 3s 6us/step - loss: 0.0919 - categorical_accuracy: 0.7417 - val_loss: 0.0919 - val_categorical_accuracy: 0.7417\n",
      "Epoch 3/20\n",
      "543746/543746 [==============================] - 3s 6us/step - loss: 0.0918 - categorical_accuracy: 0.7416 - val_loss: 0.0920 - val_categorical_accuracy: 0.7410\n",
      "Epoch 4/20\n",
      "543746/543746 [==============================] - 4s 7us/step - loss: 0.0919 - categorical_accuracy: 0.7416 - val_loss: 0.0919 - val_categorical_accuracy: 0.7417\n",
      "Epoch 5/20\n",
      "543746/543746 [==============================] - 4s 7us/step - loss: 0.0918 - categorical_accuracy: 0.7417 - val_loss: 0.0919 - val_categorical_accuracy: 0.7414\n",
      "Epoch 6/20\n",
      "543746/543746 [==============================] - 4s 8us/step - loss: 0.0918 - categorical_accuracy: 0.7416 - val_loss: 0.0919 - val_categorical_accuracy: 0.7415\n",
      "Epoch 7/20\n",
      "543746/543746 [==============================] - 4s 7us/step - loss: 0.0918 - categorical_accuracy: 0.7417 - val_loss: 0.0919 - val_categorical_accuracy: 0.7415\n",
      "Epoch 8/20\n",
      "543746/543746 [==============================] - 4s 7us/step - loss: 0.0918 - categorical_accuracy: 0.7415 - val_loss: 0.0919 - val_categorical_accuracy: 0.7415\n",
      "Epoch 9/20\n",
      "543746/543746 [==============================] - 4s 7us/step - loss: 0.0918 - categorical_accuracy: 0.7414 - val_loss: 0.0919 - val_categorical_accuracy: 0.7416\n",
      "Epoch 10/20\n",
      "543746/543746 [==============================] - 4s 8us/step - loss: 0.0918 - categorical_accuracy: 0.7416 - val_loss: 0.0919 - val_categorical_accuracy: 0.7412\n",
      "Epoch 11/20\n",
      "543746/543746 [==============================] - 4s 7us/step - loss: 0.0918 - categorical_accuracy: 0.7415 - val_loss: 0.0919 - val_categorical_accuracy: 0.7419\n",
      "Epoch 12/20\n",
      "543746/543746 [==============================] - 4s 8us/step - loss: 0.0918 - categorical_accuracy: 0.7415 - val_loss: 0.0919 - val_categorical_accuracy: 0.7419\n",
      "Epoch 13/20\n",
      "543746/543746 [==============================] - 7s 13us/step - loss: 0.0918 - categorical_accuracy: 0.7417 - val_loss: 0.0920 - val_categorical_accuracy: 0.7413\n",
      "Epoch 14/20\n",
      "543746/543746 [==============================] - 6s 11us/step - loss: 0.0918 - categorical_accuracy: 0.7415 - val_loss: 0.0919 - val_categorical_accuracy: 0.7412\n",
      "Epoch 15/20\n",
      "543746/543746 [==============================] - 4s 8us/step - loss: 0.0918 - categorical_accuracy: 0.7418 - val_loss: 0.0919 - val_categorical_accuracy: 0.7409\n",
      "Epoch 16/20\n",
      "543746/543746 [==============================] - 5s 9us/step - loss: 0.0918 - categorical_accuracy: 0.7415 - val_loss: 0.0919 - val_categorical_accuracy: 0.7416\n",
      "Epoch 17/20\n",
      "543746/543746 [==============================] - 4s 8us/step - loss: 0.0918 - categorical_accuracy: 0.7416 - val_loss: 0.0919 - val_categorical_accuracy: 0.7417\n",
      "Epoch 18/20\n",
      "543746/543746 [==============================] - 5s 8us/step - loss: 0.0918 - categorical_accuracy: 0.7417 - val_loss: 0.0919 - val_categorical_accuracy: 0.7413\n",
      "Epoch 19/20\n",
      "543746/543746 [==============================] - 8s 15us/step - loss: 0.0918 - categorical_accuracy: 0.7415 - val_loss: 0.0919 - val_categorical_accuracy: 0.7413\n",
      "Epoch 20/20\n",
      "543746/543746 [==============================] - 4s 7us/step - loss: 0.0918 - categorical_accuracy: 0.7417 - val_loss: 0.0919 - val_categorical_accuracy: 0.7413\n"
     ]
    }
   ],
   "source": [
    "history = model.fit(trainX, onehot_encoded_train,\n",
    "                   batch_size = 200, epochs = 20,\n",
    "                   verbose = 1,\n",
    "                   validation_split = 0.2)"
   ]
  },
  {
   "cell_type": "code",
   "execution_count": 21,
   "metadata": {},
   "outputs": [
    {
     "name": "stdout",
     "output_type": "stream",
     "text": [
      "291293/291293 [==============================] - 3s 11us/step\n"
     ]
    },
    {
     "data": {
      "text/plain": [
       "[0.09172706887211551, 0.741222755094362]"
      ]
     },
     "execution_count": 21,
     "metadata": {},
     "output_type": "execute_result"
    }
   ],
   "source": [
    "model.evaluate(testX,onehot_encoded_test)"
   ]
  },
  {
   "cell_type": "code",
   "execution_count": 22,
   "metadata": {},
   "outputs": [
    {
     "data": {
      "text/plain": [
       "array([[  752., -3920., -1424., ...,   112.,  -192.,    24.],\n",
       "       [ 1024., -3808., -1616., ...,  -304.,   -32.,   300.],\n",
       "       [ 1088., -4112., -1648., ...,   -48.,    48.,   -42.],\n",
       "       ...,\n",
       "       [ -144.,  2032.,  3008., ...,   288.,     0.,   171.],\n",
       "       [ -192.,  2320.,  3008., ...,  -288.,     0.,  -171.],\n",
       "       [ -144.,  2032.,  3008., ...,   272.,   -16.,   163.]])"
      ]
     },
     "execution_count": 22,
     "metadata": {},
     "output_type": "execute_result"
    }
   ],
   "source": [
    "X"
   ]
  },
  {
   "cell_type": "code",
   "execution_count": null,
   "metadata": {},
   "outputs": [],
   "source": []
  },
  {
   "cell_type": "code",
   "execution_count": 23,
   "metadata": {},
   "outputs": [],
   "source": [
    "#plotting the curves \n",
    "import matplotlib.pyplot as plt\n"
   ]
  },
  {
   "cell_type": "code",
   "execution_count": 47,
   "metadata": {},
   "outputs": [
    {
     "data": {
      "image/png": "[encoded data removed]",
      "text/plain": [
       "<Figure size 432x288 with 4 Axes>"
      ]
     },
     "metadata": {},
     "output_type": "display_data"
    }
   ],
   "source": [
    "f, (ax1, ax2, ax3, ax4) = plt.subplots(4,sharex = True, sharey = True)\n",
    "ax1.plot(data[:,0])\n",
    "ax1.set_ylim([-12000, 12000])\n",
    "ax1.set_title('Acceleration')\n",
    "ax2.plot(data[:,1])\n",
    "ax3.plot(data[:,2])\n",
    "ax4.plot(data[:,3])\n",
    "f.savefig('Acceleration.png',dpi = 150)"
   ]
  },
  {
   "cell_type": "code",
   "execution_count": 49,
   "metadata": {},
   "outputs": [
    {
     "data": {
      "image/png": "[encoded data removed]",
      "text/plain": [
       "<Figure size 432x288 with 4 Axes>"
      ]
     },
     "metadata": {},
     "output_type": "display_data"
    }
   ],
   "source": [
    "f, (ax4, ax5, ax6, ax7) = plt.subplots(4,sharex = True, sharey = True)\n",
    "\n",
    "ax4.plot(data[:,4],color = 'r')\n",
    "ax4.set_ylim([-12000, 12000])\n",
    "ax4.set_title('Delta Acceleration')\n",
    "ax5.plot(data[:,5],color = 'r')\n",
    "ax6.plot(data[:,6],color = 'r')\n",
    "ax7.plot(data[:,7],color = 'r')\n",
    "\n",
    "f.savefig('Delta_Acceleration.png', dpi =150)"
   ]
  },
  {
   "cell_type": "code",
   "execution_count": 28,
   "metadata": {},
   "outputs": [
    {
     "data": {
      "text/plain": [
       "array([[ 272,  112, -192,   24],\n",
       "       [  64, -304,  -32,  300],\n",
       "       [-336,  -48,   48,  -42],\n",
       "       ...,\n",
       "       [-272,    0,  -16,    8],\n",
       "       [ -16,   32,  -32,  -34],\n",
       "       [ 288,    0,   32,   -7]], dtype=int64)"
      ]
     },
     "execution_count": 28,
     "metadata": {},
     "output_type": "execute_result"
    }
   ],
   "source": [
    "vel_1"
   ]
  },
  {
   "cell_type": "code",
   "execution_count": 29,
   "metadata": {},
   "outputs": [
    {
     "data": {
      "text/plain": [
       "1152"
      ]
     },
     "execution_count": 29,
     "metadata": {},
     "output_type": "execute_result"
    }
   ],
   "source": [
    "vel_1.max()"
   ]
  },
  {
   "cell_type": "code",
   "execution_count": 33,
   "metadata": {},
   "outputs": [],
   "source": [
    "# saving the model \n",
    "# save model and weights\n",
    "str = 'SittingChewing_Walking'\n",
    "model_json = model.to_json()\n",
    "with open(str + '.json', \"w\") as json_file:\n",
    "    json_file.write(model_json)\n",
    "    \n",
    "model.save_weights(str + '.h5')\n"
   ]
  },
  {
   "cell_type": "code",
   "execution_count": 36,
   "metadata": {},
   "outputs": [],
   "source": [
    "np.save('TestX_acceleration_4classes',testX)\n",
    "np.save('TestY_OHC_acceleration_4classes',onehot_encoded_test)\n",
    "np.save('TestY_acceleration_4classes',testY)"
   ]
  },
  {
   "cell_type": "code",
   "execution_count": 37,
   "metadata": {},
   "outputs": [
    {
     "data": {
      "text/plain": [
       "array([0., 0., 0., ..., 3., 3., 3.])"
      ]
     },
     "execution_count": 37,
     "metadata": {},
     "output_type": "execute_result"
    }
   ],
   "source": [
    "data[:,8]"
   ]
  },
  {
   "cell_type": "code",
   "execution_count": 41,
   "metadata": {},
   "outputs": [
    {
     "data": {
      "text/plain": [
       "((304745, 9), (87076, 9), (533202, 9), (45953, 9))"
      ]
     },
     "execution_count": 41,
     "metadata": {},
     "output_type": "execute_result"
    }
   ],
   "source": [
    "data_1.shape, data_2.shape, data_3.shape, data_4.shape"
   ]
  },
  {
   "cell_type": "code",
   "execution_count": null,
   "metadata": {},
   "outputs": [],
   "source": []
  }
 ],
 "metadata": {
  "kernelspec": {
   "display_name": "Python 3",
   "language": "python",
   "name": "python3"
  },
  "language_info": {
   "codemirror_mode": {
    "name": "ipython",
    "version": 3
   },
   "file_extension": ".py",
   "mimetype": "text/x-python",
   "name": "python",
   "nbconvert_exporter": "python",
   "pygments_lexer": "ipython3",
   "version": "3.6.5"
  }
 },
 "nbformat": 4,
 "nbformat_minor": 2
}
