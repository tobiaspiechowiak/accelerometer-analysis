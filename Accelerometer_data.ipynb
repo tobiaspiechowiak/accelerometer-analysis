{
 "cells": [
  {
   "cell_type": "code",
   "execution_count": 56,
   "metadata": {},
   "outputs": [],
   "source": [
    "#import packages \n",
    "import numpy as np\n",
    "import pandas as pd\n",
    "from tensorflow import keras \n"
   ]
  },
  {
   "cell_type": "code",
   "execution_count": 221,
   "metadata": {},
   "outputs": [],
   "source": [
    "#import data \n",
    "path = 'data/'\n",
    "data_1 = pd.read_csv(path + '20180821 - sitting_chewing.csv').values\n",
    "data_2 = pd.read_csv(path + '20180905 - walking.csv').values\n",
    "data_3 = pd.read_csv(path + '20180917 - 0003 - jglad - sitting.csv').values\n",
    "data_4 = pd.read_csv(path + '20180917 - 0001 - jglad - walking_chewing.csv').values"
   ]
  },
  {
   "cell_type": "code",
   "execution_count": 222,
   "metadata": {},
   "outputs": [],
   "source": [
    "data_4 = data_4.astype('int64')"
   ]
  },
  {
   "cell_type": "code",
   "execution_count": 226,
   "metadata": {},
   "outputs": [
    {
     "data": {
      "text/plain": [
       "array([20360, 21446, 24784, 21081], dtype=int64)"
      ]
     },
     "execution_count": 226,
     "metadata": {},
     "output_type": "execute_result"
    }
   ],
   "source": [
    "np.argmax(data_4,axis=0)"
   ]
  },
  {
   "cell_type": "code",
   "execution_count": 208,
   "metadata": {},
   "outputs": [],
   "source": [
    "#get velocity \n",
    "vel_1 = np.diff(data_1,axis=0)\n",
    "vel_2 = np.diff(data_2,axis=0)\n",
    "vel_3 = np.diff(data_3,axis=0)\n",
    "vel_4 = np.diff(data_4,axis=0)"
   ]
  },
  {
   "cell_type": "code",
   "execution_count": 200,
   "metadata": {},
   "outputs": [],
   "source": [
    "data_1 = np.hstack([data_1[:len(data_1)-1,:],vel_1])\n",
    "data_2 = np.hstack([data_2[:len(data_2)-1,],vel_2])\n",
    "data_3 = np.hstack([data_3[:len(data_3)-1,],vel_3])\n",
    "data_4 = np.hstack([data_4[:len(data_4)-1,],vel_4])"
   ]
  },
  {
   "cell_type": "code",
   "execution_count": 104,
   "metadata": {},
   "outputs": [],
   "source": [
    "data_1 = np.hstack([data_1, np.zeros(len(data_1)).reshape(len(data_1),1)])\n",
    "data_2 = np.hstack([data_2, np.ones(len(data_2)).reshape(len(data_2),1)])\n",
    "data_3 = np.hstack([data_3, 2*np.ones(len(data_3)).reshape(len(data_3),1)])\n",
    "data_4 = np.hstack([data_4, 3*np.ones(len(data_4)).reshape(len(data_4),1)])"
   ]
  },
  {
   "cell_type": "code",
   "execution_count": 105,
   "metadata": {},
   "outputs": [],
   "source": [
    "data = np.vstack([data_1, data_2, data_3, data_4])\n",
    "X = data[:,:data.shape[1] - 1]\n",
    "Y = data[:,data.shape[1] - 1]"
   ]
  },
  {
   "cell_type": "code",
   "execution_count": 106,
   "metadata": {},
   "outputs": [
    {
     "data": {
      "text/plain": [
       "array([[-8.640e+02, -4.128e+03,  5.600e+02, ..., -1.280e+02, -3.480e+02,\n",
       "         3.000e+00],\n",
       "       [-7.520e+02, -3.808e+03,  4.320e+02, ..., -4.800e+01,  3.400e+01,\n",
       "         3.000e+00],\n",
       "       [-1.056e+03, -3.776e+03,  3.840e+02, ...,  2.400e+02,  9.000e+00,\n",
       "         3.000e+00],\n",
       "       ...,\n",
       "       [-1.984e+03, -3.808e+03,  7.680e+02, ..., -3.520e+02, -1.260e+02,\n",
       "         3.000e+00],\n",
       "       [-1.968e+03, -3.728e+03,  4.160e+02, ..., -3.200e+01, -8.000e+01,\n",
       "         3.000e+00],\n",
       "       [-2.176e+03, -3.520e+03,  3.840e+02, ...,  1.280e+02,  6.100e+01,\n",
       "         3.000e+00]])"
      ]
     },
     "execution_count": 106,
     "metadata": {},
     "output_type": "execute_result"
    }
   ],
   "source": [
    "data_4"
   ]
  },
  {
   "cell_type": "code",
   "execution_count": 107,
   "metadata": {},
   "outputs": [
    {
     "name": "stderr",
     "output_type": "stream",
     "text": [
      "c:\\program files\\python\\lib\\site-packages\\sklearn\\preprocessing\\data.py:164: UserWarning: Numerical issues were encountered when centering the data and might not be solved. Dataset may contain too large values. You may need to prescale your features.\n",
      "  warnings.warn(\"Numerical issues were encountered \"\n"
     ]
    }
   ],
   "source": [
    "#standard scaling\n",
    "import sklearn.preprocessing as pre\n",
    "X_scaled =  pre.scale(X)"
   ]
  },
  {
   "cell_type": "code",
   "execution_count": 108,
   "metadata": {},
   "outputs": [],
   "source": [
    "#split into training and test set\n",
    "from sklearn.model_selection import train_test_split\n",
    "trainX, testX, trainY, testY = train_test_split(X_scaled,Y,test_size=0.2,random_state=0)"
   ]
  },
  {
   "cell_type": "code",
   "execution_count": 109,
   "metadata": {},
   "outputs": [],
   "source": [
    "#do one-hot encoding\n",
    "from sklearn.preprocessing import OneHotEncoder \n",
    "from sklearn.preprocessing import LabelEncoder\n",
    "\n",
    "enc = OneHotEncoder(sparse=False)"
   ]
  },
  {
   "cell_type": "code",
   "execution_count": 110,
   "metadata": {},
   "outputs": [],
   "source": [
    "integer_encoded_train = trainY.reshape(len(trainY), 1)\n",
    "onehot_encoded_train = enc.fit_transform(integer_encoded_train)\n",
    "\n",
    "integer_encoded_test = testY.reshape(len(testY), 1)\n",
    "onehot_encoded_test = enc.fit_transform(integer_encoded_test)"
   ]
  },
  {
   "cell_type": "code",
   "execution_count": 111,
   "metadata": {},
   "outputs": [
    {
     "data": {
      "text/plain": [
       "array([[1., 0., 0., 0.],\n",
       "       [0., 0., 0., 1.],\n",
       "       [1., 0., 0., 0.],\n",
       "       ...,\n",
       "       [0., 1., 0., 0.],\n",
       "       [0., 1., 0., 0.],\n",
       "       [0., 0., 1., 0.]])"
      ]
     },
     "execution_count": 111,
     "metadata": {},
     "output_type": "execute_result"
    }
   ],
   "source": [
    "onehot_encoded_train"
   ]
  },
  {
   "cell_type": "code",
   "execution_count": 112,
   "metadata": {},
   "outputs": [],
   "source": [
    "#set up neural network\n",
    "model = keras.Sequential()\n"
   ]
  },
  {
   "cell_type": "code",
   "execution_count": 113,
   "metadata": {},
   "outputs": [],
   "source": [
    "model.add(keras.layers.Dense(\n",
    "  units = trainX.shape[1] - 1,\n",
    "  input_dim = trainX.shape[1],\n",
    "  activation = 'tanh'\n",
    "))\n",
    "\n",
    "model.add(keras.layers.Dense(\n",
    "  units = onehot_encoded_train.shape[1],\n",
    "  input_dim = trainX.shape[1],\n",
    "    activation = 'softmax'    \n",
    "))\n"
   ]
  },
  {
   "cell_type": "code",
   "execution_count": 114,
   "metadata": {},
   "outputs": [],
   "source": [
    "model.compile(loss = 'mean_squared_error',\n",
    "             optimizer = 'Adam',\n",
    "             metrics = ['categorical_accuracy'])"
   ]
  },
  {
   "cell_type": "code",
   "execution_count": 116,
   "metadata": {},
   "outputs": [
    {
     "name": "stdout",
     "output_type": "stream",
     "text": [
      "Train on 279615 samples, validate on 31069 samples\n",
      "Epoch 1/100\n",
      "279615/279615 [==============================] - 3s 11us/step - loss: 0.1286 - categorical_accuracy: 0.6211 - val_loss: 0.1029 - val_categorical_accuracy: 0.7040\n",
      "Epoch 2/100\n",
      "279615/279615 [==============================] - 3s 9us/step - loss: 0.0935 - categorical_accuracy: 0.7365 - val_loss: 0.0864 - val_categorical_accuracy: 0.7573\n",
      "Epoch 3/100\n",
      "279615/279615 [==============================] - 3s 11us/step - loss: 0.0845 - categorical_accuracy: 0.7659 - val_loss: 0.0816 - val_categorical_accuracy: 0.7774\n",
      "Epoch 4/100\n",
      "279615/279615 [==============================] - 4s 14us/step - loss: 0.0815 - categorical_accuracy: 0.7763 - val_loss: 0.0799 - val_categorical_accuracy: 0.7793\n",
      "Epoch 5/100\n",
      "279615/279615 [==============================] - 3s 12us/step - loss: 0.0803 - categorical_accuracy: 0.7766 - val_loss: 0.0793 - val_categorical_accuracy: 0.7807\n",
      "Epoch 6/100\n",
      "279615/279615 [==============================] - 3s 10us/step - loss: 0.0798 - categorical_accuracy: 0.7774 - val_loss: 0.0788 - val_categorical_accuracy: 0.7817\n",
      "Epoch 7/100\n",
      "279615/279615 [==============================] - 3s 11us/step - loss: 0.0794 - categorical_accuracy: 0.7783 - val_loss: 0.0784 - val_categorical_accuracy: 0.7816\n",
      "Epoch 8/100\n",
      "279615/279615 [==============================] - 4s 13us/step - loss: 0.0790 - categorical_accuracy: 0.7793 - val_loss: 0.0780 - val_categorical_accuracy: 0.7830\n",
      "Epoch 9/100\n",
      "279615/279615 [==============================] - 3s 12us/step - loss: 0.0787 - categorical_accuracy: 0.7804 - val_loss: 0.0778 - val_categorical_accuracy: 0.7833\n",
      "Epoch 10/100\n",
      "279615/279615 [==============================] - 3s 11us/step - loss: 0.0784 - categorical_accuracy: 0.7809 - val_loss: 0.0776 - val_categorical_accuracy: 0.7837\n",
      "Epoch 11/100\n",
      "279615/279615 [==============================] - 3s 12us/step - loss: 0.0782 - categorical_accuracy: 0.7815 - val_loss: 0.0774 - val_categorical_accuracy: 0.7831\n",
      "Epoch 12/100\n",
      "279615/279615 [==============================] - 3s 11us/step - loss: 0.0780 - categorical_accuracy: 0.7822 - val_loss: 0.0773 - val_categorical_accuracy: 0.7823\n",
      "Epoch 13/100\n",
      "279615/279615 [==============================] - 3s 12us/step - loss: 0.0779 - categorical_accuracy: 0.7818 - val_loss: 0.0773 - val_categorical_accuracy: 0.7855\n",
      "Epoch 14/100\n",
      "279615/279615 [==============================] - 3s 11us/step - loss: 0.0778 - categorical_accuracy: 0.7820 - val_loss: 0.0770 - val_categorical_accuracy: 0.7843\n",
      "Epoch 15/100\n",
      "279615/279615 [==============================] - 8s 27us/step - loss: 0.0777 - categorical_accuracy: 0.7819 - val_loss: 0.0771 - val_categorical_accuracy: 0.7809\n",
      "Epoch 16/100\n",
      "279615/279615 [==============================] - 6s 22us/step - loss: 0.0776 - categorical_accuracy: 0.7817 - val_loss: 0.0770 - val_categorical_accuracy: 0.7844\n",
      "Epoch 17/100\n",
      "279615/279615 [==============================] - 5s 17us/step - loss: 0.0775 - categorical_accuracy: 0.7814 - val_loss: 0.0769 - val_categorical_accuracy: 0.7857\n",
      "Epoch 18/100\n",
      "279615/279615 [==============================] - 3s 12us/step - loss: 0.0775 - categorical_accuracy: 0.7816 - val_loss: 0.0768 - val_categorical_accuracy: 0.7833\n",
      "Epoch 19/100\n",
      "279615/279615 [==============================] - 4s 14us/step - loss: 0.0774 - categorical_accuracy: 0.7813 - val_loss: 0.0768 - val_categorical_accuracy: 0.7815\n",
      "Epoch 20/100\n",
      "279615/279615 [==============================] - 4s 13us/step - loss: 0.0774 - categorical_accuracy: 0.7818 - val_loss: 0.0768 - val_categorical_accuracy: 0.7803\n",
      "Epoch 21/100\n",
      "279615/279615 [==============================] - 4s 13us/step - loss: 0.0773 - categorical_accuracy: 0.7812 - val_loss: 0.0767 - val_categorical_accuracy: 0.7822\n",
      "Epoch 22/100\n",
      "279615/279615 [==============================] - 4s 14us/step - loss: 0.0773 - categorical_accuracy: 0.7813 - val_loss: 0.0767 - val_categorical_accuracy: 0.7838\n",
      "Epoch 23/100\n",
      "279615/279615 [==============================] - 4s 14us/step - loss: 0.0773 - categorical_accuracy: 0.7811 - val_loss: 0.0767 - val_categorical_accuracy: 0.7811\n",
      "Epoch 24/100\n",
      "279615/279615 [==============================] - 4s 16us/step - loss: 0.0772 - categorical_accuracy: 0.7811 - val_loss: 0.0766 - val_categorical_accuracy: 0.7824\n",
      "Epoch 25/100\n",
      "279615/279615 [==============================] - 3s 13us/step - loss: 0.0772 - categorical_accuracy: 0.7810 - val_loss: 0.0767 - val_categorical_accuracy: 0.7842\n",
      "Epoch 26/100\n",
      "279615/279615 [==============================] - 4s 13us/step - loss: 0.0772 - categorical_accuracy: 0.7811 - val_loss: 0.0766 - val_categorical_accuracy: 0.7830\n",
      "Epoch 27/100\n",
      "279615/279615 [==============================] - 6s 20us/step - loss: 0.0771 - categorical_accuracy: 0.7813 - val_loss: 0.0766 - val_categorical_accuracy: 0.7811\n",
      "Epoch 28/100\n",
      "279615/279615 [==============================] - 5s 19us/step - loss: 0.0771 - categorical_accuracy: 0.7815 - val_loss: 0.0767 - val_categorical_accuracy: 0.7866\n",
      "Epoch 29/100\n",
      "279615/279615 [==============================] - 4s 14us/step - loss: 0.0771 - categorical_accuracy: 0.7811 - val_loss: 0.0764 - val_categorical_accuracy: 0.7828\n",
      "Epoch 30/100\n",
      "279615/279615 [==============================] - 4s 15us/step - loss: 0.0771 - categorical_accuracy: 0.7814 - val_loss: 0.0765 - val_categorical_accuracy: 0.7811\n",
      "Epoch 31/100\n",
      "279615/279615 [==============================] - 4s 14us/step - loss: 0.0771 - categorical_accuracy: 0.7814 - val_loss: 0.0764 - val_categorical_accuracy: 0.7845\n",
      "Epoch 32/100\n",
      "279615/279615 [==============================] - 3s 12us/step - loss: 0.0770 - categorical_accuracy: 0.7810 - val_loss: 0.0764 - val_categorical_accuracy: 0.7847\n",
      "Epoch 33/100\n",
      "279615/279615 [==============================] - 4s 14us/step - loss: 0.0770 - categorical_accuracy: 0.7813 - val_loss: 0.0764 - val_categorical_accuracy: 0.7835\n",
      "Epoch 34/100\n",
      "279615/279615 [==============================] - 4s 15us/step - loss: 0.0770 - categorical_accuracy: 0.7810 - val_loss: 0.0764 - val_categorical_accuracy: 0.7854\n",
      "Epoch 35/100\n",
      "279615/279615 [==============================] - 4s 15us/step - loss: 0.0770 - categorical_accuracy: 0.7813 - val_loss: 0.0763 - val_categorical_accuracy: 0.7830\n",
      "Epoch 36/100\n",
      "279615/279615 [==============================] - 4s 14us/step - loss: 0.0770 - categorical_accuracy: 0.7811 - val_loss: 0.0763 - val_categorical_accuracy: 0.7807\n",
      "Epoch 37/100\n",
      "279615/279615 [==============================] - 4s 13us/step - loss: 0.0770 - categorical_accuracy: 0.7807 - val_loss: 0.0763 - val_categorical_accuracy: 0.7817\n",
      "Epoch 38/100\n",
      "279615/279615 [==============================] - 4s 13us/step - loss: 0.0770 - categorical_accuracy: 0.7814 - val_loss: 0.0763 - val_categorical_accuracy: 0.7810\n",
      "Epoch 39/100\n",
      "279615/279615 [==============================] - 4s 13us/step - loss: 0.0770 - categorical_accuracy: 0.7809 - val_loss: 0.0763 - val_categorical_accuracy: 0.7853\n",
      "Epoch 40/100\n",
      "279615/279615 [==============================] - 3s 12us/step - loss: 0.0770 - categorical_accuracy: 0.7813 - val_loss: 0.0763 - val_categorical_accuracy: 0.7849\n",
      "Epoch 41/100\n",
      "279615/279615 [==============================] - 4s 13us/step - loss: 0.0769 - categorical_accuracy: 0.7810 - val_loss: 0.0762 - val_categorical_accuracy: 0.7836\n",
      "Epoch 42/100\n",
      "279615/279615 [==============================] - 4s 15us/step - loss: 0.0769 - categorical_accuracy: 0.7809 - val_loss: 0.0762 - val_categorical_accuracy: 0.7830\n",
      "Epoch 43/100\n",
      "279615/279615 [==============================] - 4s 14us/step - loss: 0.0769 - categorical_accuracy: 0.7808 - val_loss: 0.0762 - val_categorical_accuracy: 0.7853\n",
      "Epoch 44/100\n",
      "279615/279615 [==============================] - 4s 13us/step - loss: 0.0769 - categorical_accuracy: 0.7812 - val_loss: 0.0763 - val_categorical_accuracy: 0.7850\n",
      "Epoch 45/100\n",
      "279615/279615 [==============================] - 4s 14us/step - loss: 0.0769 - categorical_accuracy: 0.7809 - val_loss: 0.0763 - val_categorical_accuracy: 0.7829\n",
      "Epoch 46/100\n",
      "279615/279615 [==============================] - 3s 11us/step - loss: 0.0769 - categorical_accuracy: 0.7812 - val_loss: 0.0762 - val_categorical_accuracy: 0.7851\n",
      "Epoch 47/100\n"
     ]
    },
    {
     "name": "stdout",
     "output_type": "stream",
     "text": [
      "279615/279615 [==============================] - 3s 10us/step - loss: 0.0769 - categorical_accuracy: 0.7808 - val_loss: 0.0762 - val_categorical_accuracy: 0.7824\n",
      "Epoch 48/100\n",
      "279615/279615 [==============================] - 3s 10us/step - loss: 0.0769 - categorical_accuracy: 0.7812 - val_loss: 0.0763 - val_categorical_accuracy: 0.7875\n",
      "Epoch 49/100\n",
      "279615/279615 [==============================] - 3s 10us/step - loss: 0.0769 - categorical_accuracy: 0.7811 - val_loss: 0.0762 - val_categorical_accuracy: 0.7856\n",
      "Epoch 50/100\n",
      "279615/279615 [==============================] - 3s 9us/step - loss: 0.0769 - categorical_accuracy: 0.7811 - val_loss: 0.0762 - val_categorical_accuracy: 0.7853\n",
      "Epoch 51/100\n",
      "279615/279615 [==============================] - 3s 11us/step - loss: 0.0769 - categorical_accuracy: 0.7811 - val_loss: 0.0762 - val_categorical_accuracy: 0.7820\n",
      "Epoch 52/100\n",
      "279615/279615 [==============================] - 3s 10us/step - loss: 0.0769 - categorical_accuracy: 0.7810 - val_loss: 0.0761 - val_categorical_accuracy: 0.7815\n",
      "Epoch 53/100\n",
      "279615/279615 [==============================] - 3s 10us/step - loss: 0.0768 - categorical_accuracy: 0.7810 - val_loss: 0.0761 - val_categorical_accuracy: 0.7849\n",
      "Epoch 54/100\n",
      "279615/279615 [==============================] - 3s 11us/step - loss: 0.0768 - categorical_accuracy: 0.7811 - val_loss: 0.0762 - val_categorical_accuracy: 0.7853\n",
      "Epoch 55/100\n",
      "279615/279615 [==============================] - 3s 10us/step - loss: 0.0768 - categorical_accuracy: 0.7809 - val_loss: 0.0761 - val_categorical_accuracy: 0.7851\n",
      "Epoch 56/100\n",
      "279615/279615 [==============================] - 3s 12us/step - loss: 0.0768 - categorical_accuracy: 0.7810 - val_loss: 0.0761 - val_categorical_accuracy: 0.7826\n",
      "Epoch 57/100\n",
      "279615/279615 [==============================] - 4s 16us/step - loss: 0.0768 - categorical_accuracy: 0.7807 - val_loss: 0.0762 - val_categorical_accuracy: 0.7845\n",
      "Epoch 58/100\n",
      "279615/279615 [==============================] - 3s 10us/step - loss: 0.0768 - categorical_accuracy: 0.7811 - val_loss: 0.0761 - val_categorical_accuracy: 0.7834\n",
      "Epoch 59/100\n",
      "279615/279615 [==============================] - 3s 10us/step - loss: 0.0768 - categorical_accuracy: 0.7810 - val_loss: 0.0761 - val_categorical_accuracy: 0.7848\n",
      "Epoch 60/100\n",
      "279615/279615 [==============================] - 3s 10us/step - loss: 0.0768 - categorical_accuracy: 0.7807 - val_loss: 0.0761 - val_categorical_accuracy: 0.7853\n",
      "Epoch 61/100\n",
      "279615/279615 [==============================] - 3s 11us/step - loss: 0.0768 - categorical_accuracy: 0.7811 - val_loss: 0.0761 - val_categorical_accuracy: 0.7817\n",
      "Epoch 62/100\n",
      "279615/279615 [==============================] - 3s 10us/step - loss: 0.0768 - categorical_accuracy: 0.7808 - val_loss: 0.0761 - val_categorical_accuracy: 0.7838\n",
      "Epoch 63/100\n",
      "279615/279615 [==============================] - 3s 10us/step - loss: 0.0768 - categorical_accuracy: 0.7808 - val_loss: 0.0761 - val_categorical_accuracy: 0.7839\n",
      "Epoch 64/100\n",
      "279615/279615 [==============================] - 4s 14us/step - loss: 0.0768 - categorical_accuracy: 0.7807 - val_loss: 0.0761 - val_categorical_accuracy: 0.7816\n",
      "Epoch 65/100\n",
      "279615/279615 [==============================] - 4s 13us/step - loss: 0.0768 - categorical_accuracy: 0.7808 - val_loss: 0.0761 - val_categorical_accuracy: 0.7823\n",
      "Epoch 66/100\n",
      "279615/279615 [==============================] - 4s 15us/step - loss: 0.0768 - categorical_accuracy: 0.7808 - val_loss: 0.0761 - val_categorical_accuracy: 0.7867\n",
      "Epoch 67/100\n",
      "279615/279615 [==============================] - 3s 12us/step - loss: 0.0768 - categorical_accuracy: 0.7810 - val_loss: 0.0760 - val_categorical_accuracy: 0.7847\n",
      "Epoch 68/100\n",
      "279615/279615 [==============================] - 3s 12us/step - loss: 0.0768 - categorical_accuracy: 0.7809 - val_loss: 0.0760 - val_categorical_accuracy: 0.7850\n",
      "Epoch 69/100\n",
      "279615/279615 [==============================] - 3s 12us/step - loss: 0.0768 - categorical_accuracy: 0.7806 - val_loss: 0.0760 - val_categorical_accuracy: 0.7848\n",
      "Epoch 70/100\n",
      "279615/279615 [==============================] - 4s 16us/step - loss: 0.0768 - categorical_accuracy: 0.7807 - val_loss: 0.0760 - val_categorical_accuracy: 0.7833\n",
      "Epoch 71/100\n",
      "279615/279615 [==============================] - 4s 13us/step - loss: 0.0767 - categorical_accuracy: 0.7807 - val_loss: 0.0762 - val_categorical_accuracy: 0.7864\n",
      "Epoch 72/100\n",
      "279615/279615 [==============================] - 3s 12us/step - loss: 0.0767 - categorical_accuracy: 0.7816 - val_loss: 0.0761 - val_categorical_accuracy: 0.7822\n",
      "Epoch 73/100\n",
      "279615/279615 [==============================] - 3s 12us/step - loss: 0.0767 - categorical_accuracy: 0.7810 - val_loss: 0.0760 - val_categorical_accuracy: 0.7825\n",
      "Epoch 74/100\n",
      "279615/279615 [==============================] - 3s 12us/step - loss: 0.0767 - categorical_accuracy: 0.7810 - val_loss: 0.0760 - val_categorical_accuracy: 0.7829\n",
      "Epoch 75/100\n",
      "279615/279615 [==============================] - 3s 12us/step - loss: 0.0767 - categorical_accuracy: 0.7807 - val_loss: 0.0760 - val_categorical_accuracy: 0.7824\n",
      "Epoch 76/100\n",
      "279615/279615 [==============================] - 3s 12us/step - loss: 0.0767 - categorical_accuracy: 0.7805 - val_loss: 0.0760 - val_categorical_accuracy: 0.7837\n",
      "Epoch 77/100\n",
      "279615/279615 [==============================] - 3s 12us/step - loss: 0.0767 - categorical_accuracy: 0.7808 - val_loss: 0.0760 - val_categorical_accuracy: 0.7826\n",
      "Epoch 78/100\n",
      "279615/279615 [==============================] - 4s 16us/step - loss: 0.0767 - categorical_accuracy: 0.7808 - val_loss: 0.0760 - val_categorical_accuracy: 0.7848\n",
      "Epoch 79/100\n",
      "279615/279615 [==============================] - 4s 13us/step - loss: 0.0767 - categorical_accuracy: 0.7807 - val_loss: 0.0760 - val_categorical_accuracy: 0.7821\n",
      "Epoch 80/100\n",
      "279615/279615 [==============================] - 3s 12us/step - loss: 0.0767 - categorical_accuracy: 0.7806 - val_loss: 0.0761 - val_categorical_accuracy: 0.7840\n",
      "Epoch 81/100\n",
      "279615/279615 [==============================] - 3s 12us/step - loss: 0.0767 - categorical_accuracy: 0.7808 - val_loss: 0.0760 - val_categorical_accuracy: 0.7820\n",
      "Epoch 82/100\n",
      "279615/279615 [==============================] - 3s 12us/step - loss: 0.0767 - categorical_accuracy: 0.7810 - val_loss: 0.0760 - val_categorical_accuracy: 0.7835\n",
      "Epoch 83/100\n",
      "279615/279615 [==============================] - 3s 12us/step - loss: 0.0767 - categorical_accuracy: 0.7809 - val_loss: 0.0760 - val_categorical_accuracy: 0.7827\n",
      "Epoch 84/100\n",
      "279615/279615 [==============================] - 4s 14us/step - loss: 0.0767 - categorical_accuracy: 0.7810 - val_loss: 0.0760 - val_categorical_accuracy: 0.7828\n",
      "Epoch 85/100\n",
      "279615/279615 [==============================] - 5s 16us/step - loss: 0.0767 - categorical_accuracy: 0.7807 - val_loss: 0.0760 - val_categorical_accuracy: 0.7841\n",
      "Epoch 86/100\n",
      "279615/279615 [==============================] - 4s 15us/step - loss: 0.0767 - categorical_accuracy: 0.7810 - val_loss: 0.0759 - val_categorical_accuracy: 0.7822\n",
      "Epoch 87/100\n",
      "279615/279615 [==============================] - 4s 13us/step - loss: 0.0767 - categorical_accuracy: 0.7809 - val_loss: 0.0760 - val_categorical_accuracy: 0.7853\n",
      "Epoch 88/100\n",
      "279615/279615 [==============================] - 4s 13us/step - loss: 0.0767 - categorical_accuracy: 0.7815 - val_loss: 0.0760 - val_categorical_accuracy: 0.7855\n",
      "Epoch 89/100\n",
      "279615/279615 [==============================] - 3s 12us/step - loss: 0.0767 - categorical_accuracy: 0.7810 - val_loss: 0.0759 - val_categorical_accuracy: 0.7852\n",
      "Epoch 90/100\n",
      "279615/279615 [==============================] - 3s 12us/step - loss: 0.0767 - categorical_accuracy: 0.7810 - val_loss: 0.0759 - val_categorical_accuracy: 0.7841\n",
      "Epoch 91/100\n",
      "279615/279615 [==============================] - 4s 13us/step - loss: 0.0767 - categorical_accuracy: 0.7809 - val_loss: 0.0759 - val_categorical_accuracy: 0.7818\n",
      "Epoch 92/100\n",
      "279615/279615 [==============================] - 4s 13us/step - loss: 0.0766 - categorical_accuracy: 0.7810 - val_loss: 0.0759 - val_categorical_accuracy: 0.7851\n",
      "Epoch 93/100\n",
      "279615/279615 [==============================] - 4s 13us/step - loss: 0.0766 - categorical_accuracy: 0.7807 - val_loss: 0.0759 - val_categorical_accuracy: 0.7830\n"
     ]
    },
    {
     "name": "stdout",
     "output_type": "stream",
     "text": [
      "Epoch 94/100\n",
      "279615/279615 [==============================] - 3s 10us/step - loss: 0.0766 - categorical_accuracy: 0.7807 - val_loss: 0.0759 - val_categorical_accuracy: 0.7833\n",
      "Epoch 95/100\n",
      "279615/279615 [==============================] - 3s 11us/step - loss: 0.0766 - categorical_accuracy: 0.7810 - val_loss: 0.0760 - val_categorical_accuracy: 0.7827\n",
      "Epoch 96/100\n",
      "279615/279615 [==============================] - 3s 10us/step - loss: 0.0766 - categorical_accuracy: 0.7810 - val_loss: 0.0760 - val_categorical_accuracy: 0.7845\n",
      "Epoch 97/100\n",
      "279615/279615 [==============================] - 3s 10us/step - loss: 0.0766 - categorical_accuracy: 0.7810 - val_loss: 0.0759 - val_categorical_accuracy: 0.7825\n",
      "Epoch 98/100\n",
      "279615/279615 [==============================] - 3s 10us/step - loss: 0.0766 - categorical_accuracy: 0.7813 - val_loss: 0.0759 - val_categorical_accuracy: 0.7825\n",
      "Epoch 99/100\n",
      "279615/279615 [==============================] - 3s 10us/step - loss: 0.0766 - categorical_accuracy: 0.7809 - val_loss: 0.0759 - val_categorical_accuracy: 0.7829\n",
      "Epoch 100/100\n",
      "279615/279615 [==============================] - 3s 10us/step - loss: 0.0766 - categorical_accuracy: 0.7809 - val_loss: 0.0758 - val_categorical_accuracy: 0.7822\n"
     ]
    }
   ],
   "source": [
    "history = model.fit(trainX, onehot_encoded_train,\n",
    "                   batch_size = 100, epochs = 100,\n",
    "                   verbose = 1,\n",
    "                   validation_split = 0.1)"
   ]
  },
  {
   "cell_type": "code",
   "execution_count": 117,
   "metadata": {},
   "outputs": [
    {
     "name": "stdout",
     "output_type": "stream",
     "text": [
      "77671/77671 [==============================] - 1s 11us/step\n"
     ]
    },
    {
     "data": {
      "text/plain": [
       "[0.07677593994521409, 0.7803298528423634]"
      ]
     },
     "execution_count": 117,
     "metadata": {},
     "output_type": "execute_result"
    }
   ],
   "source": [
    "model.evaluate(testX,onehot_encoded_test)"
   ]
  },
  {
   "cell_type": "code",
   "execution_count": 118,
   "metadata": {},
   "outputs": [
    {
     "data": {
      "text/plain": [
       "array([[  752., -3920., -1424., ...,   112.,  -192.,    24.],\n",
       "       [ 1024., -3808., -1616., ...,  -304.,   -32.,   300.],\n",
       "       [ 1088., -4112., -1648., ...,   -48.,    48.,   -42.],\n",
       "       ...,\n",
       "       [-1984., -3808.,   768., ...,    80.,  -352.,  -126.],\n",
       "       [-1968., -3728.,   416., ...,   208.,   -32.,   -80.],\n",
       "       [-2176., -3520.,   384., ...,  -112.,   128.,    61.]])"
      ]
     },
     "execution_count": 118,
     "metadata": {},
     "output_type": "execute_result"
    }
   ],
   "source": [
    "X"
   ]
  },
  {
   "cell_type": "code",
   "execution_count": null,
   "metadata": {},
   "outputs": [],
   "source": []
  },
  {
   "cell_type": "code",
   "execution_count": 119,
   "metadata": {},
   "outputs": [],
   "source": [
    "#plotting the curves \n",
    "import matplotlib.pyplot as plt\n"
   ]
  },
  {
   "cell_type": "code",
   "execution_count": 120,
   "metadata": {},
   "outputs": [
    {
     "data": {
      "image/png": "[encoded data removed]",
      "text/plain": [
       "<Figure size 432x288 with 4 Axes>"
      ]
     },
     "metadata": {},
     "output_type": "display_data"
    }
   ],
   "source": [
    "f, (ax1, ax2, ax3, ax4) = plt.subplots(4,sharex = True, sharey = True)\n",
    "ax1.plot(data[:,0])\n",
    "ax1.set_title('Acceleration')\n",
    "ax2.plot(data[:,1])\n",
    "ax3.plot(data[:,2])\n",
    "ax4.plot(data[:,3])\n",
    "f.savefig('Acceleration.png',dpi = 150)"
   ]
  },
  {
   "cell_type": "code",
   "execution_count": 95,
   "metadata": {},
   "outputs": [
    {
     "data": {
      "image/png": "[encoded data removed]",
      "text/plain": [
       "<Figure size 432x288 with 4 Axes>"
      ]
     },
     "metadata": {},
     "output_type": "display_data"
    }
   ],
   "source": [
    "f, (ax4, ax5, ax6, ax7) = plt.subplots(4,sharex = True, sharey = True)\n",
    "\n",
    "ax4.plot(data[:,4],color = 'r')\n",
    "ax4.set_title('Delta Acceleration')\n",
    "ax5.plot(data[:,5],color = 'r')\n",
    "ax6.plot(data[:,6],color = 'r')\n",
    "ax7.plot(data[:,7],color = 'r')\n",
    "f.savefig('Delta_Acceleration.png', dpi =150)"
   ]
  },
  {
   "cell_type": "code",
   "execution_count": 96,
   "metadata": {},
   "outputs": [
    {
     "data": {
      "text/plain": [
       "array([[ 272,  112, -192,   24],\n",
       "       [  64, -304,  -32,  300],\n",
       "       [-336,  -48,   48,  -42],\n",
       "       ...,\n",
       "       [  16,  -16,  304,  -85],\n",
       "       [  48,  -16, -304,  123],\n",
       "       [ -16,  208,  320, -304]], dtype=int64)"
      ]
     },
     "execution_count": 96,
     "metadata": {},
     "output_type": "execute_result"
    }
   ],
   "source": [
    "vel_1"
   ]
  },
  {
   "cell_type": "code",
   "execution_count": 97,
   "metadata": {},
   "outputs": [
    {
     "data": {
      "text/plain": [
       "960"
      ]
     },
     "execution_count": 97,
     "metadata": {},
     "output_type": "execute_result"
    }
   ],
   "source": [
    "vel_1.max()"
   ]
  },
  {
   "cell_type": "code",
   "execution_count": 98,
   "metadata": {},
   "outputs": [],
   "source": [
    "# saving the model \n",
    "# save model and weights\n",
    "str = 'SittingChewing_Walking'\n",
    "model_json = model.to_json()\n",
    "with open(str + '.json', \"w\") as json_file:\n",
    "    json_file.write(model_json)\n",
    "    \n",
    "model.save_weights(str + '.h5')\n"
   ]
  },
  {
   "cell_type": "code",
   "execution_count": null,
   "metadata": {},
   "outputs": [],
   "source": [
    "\n"
   ]
  },
  {
   "cell_type": "code",
   "execution_count": null,
   "metadata": {},
   "outputs": [],
   "source": []
  }
 ],
 "metadata": {
  "kernelspec": {
   "display_name": "Python 3",
   "language": "python",
   "name": "python3"
  },
  "language_info": {
   "codemirror_mode": {
    "name": "ipython",
    "version": 3
   },
   "file_extension": ".py",
   "mimetype": "text/x-python",
   "name": "python",
   "nbconvert_exporter": "python",
   "pygments_lexer": "ipython3",
   "version": "3.6.5"
  }
 },
 "nbformat": 4,
 "nbformat_minor": 2
}
