{
 "cells": [
  {
   "cell_type": "code",
   "execution_count": 39,
   "metadata": {},
   "outputs": [],
   "source": [
    "#import packages \n",
    "import numpy as np\n",
    "import pandas as pd\n",
    "from tensorflow import keras "
   ]
  },
  {
   "cell_type": "code",
   "execution_count": 40,
   "metadata": {},
   "outputs": [],
   "source": [
    "#import data \n",
    "path = 'data/testing set/'\n",
    "data_1 = pd.read_csv(path + '20180917 - 0003 - jglad - sitting_chewing.csv').values\n",
    "data_2 = pd.read_csv(path + '20180917 - 0001 - jglad - sitting.csv').values\n",
    "data_3 = pd.read_csv(path + 'Walking_chewing_2.csv').values\n"
   ]
  },
  {
   "cell_type": "code",
   "execution_count": 41,
   "metadata": {},
   "outputs": [],
   "source": [
    "#loading weights\n",
    "#load the saved model \n",
    "str = 'SittingChewing_Walking'\n",
    "json_file = open(str + '.json', 'r')\n",
    "loaded_model_json = json_file.read()\n",
    "loaded_model = keras.models.model_from_json(loaded_model_json)\n",
    "\n",
    "#load weights\n",
    "loaded_model.load_weights(str + '.h5')\n",
    "\n"
   ]
  },
  {
   "cell_type": "code",
   "execution_count": 42,
   "metadata": {},
   "outputs": [
    {
     "data": {
      "text/plain": [
       "array([[ -112, -4176,  -224,  4184],\n",
       "       [  112, -4176,  -208,  4183],\n",
       "       [ -128, -4176,  -224,  4184],\n",
       "       ...,\n",
       "       [ -560,   -32,  3712,  3754],\n",
       "       [ -624,  -112,  3744,  3797],\n",
       "       [ -624,   -96,  3712,  3765]], dtype=int64)"
      ]
     },
     "execution_count": 42,
     "metadata": {},
     "output_type": "execute_result"
    }
   ],
   "source": [
    "data_1\n"
   ]
  },
  {
   "cell_type": "code",
   "execution_count": 43,
   "metadata": {},
   "outputs": [],
   "source": [
    "#get velocity \n",
    "vel_1 = np.diff(data_1,axis=0)\n",
    "vel_2 = np.diff(data_2,axis=0)\n",
    "vel_3 = np.diff(data_3,axis=0)"
   ]
  },
  {
   "cell_type": "code",
   "execution_count": 44,
   "metadata": {},
   "outputs": [
    {
     "data": {
      "text/plain": [
       "array([[ 224,    0,   16,   -1],\n",
       "       [-240,    0,  -16,    1],\n",
       "       [ 208,    0,   16,   -2],\n",
       "       ...,\n",
       "       [  80, -144, -224, -235],\n",
       "       [ -64,  -80,   32,   43],\n",
       "       [   0,   16,  -32,  -32]], dtype=int64)"
      ]
     },
     "execution_count": 44,
     "metadata": {},
     "output_type": "execute_result"
    }
   ],
   "source": [
    "vel_1"
   ]
  },
  {
   "cell_type": "code",
   "execution_count": 45,
   "metadata": {},
   "outputs": [],
   "source": [
    "data_1 = np.hstack([data_1[:len(data_1)-1,:],vel_1])\n",
    "data_2 = np.hstack([data_2[:len(data_2)-1,:],vel_2])\n",
    "data_3 = np.hstack([data_3[:len(data_3)-1,:],vel_3])"
   ]
  },
  {
   "cell_type": "code",
   "execution_count": 72,
   "metadata": {},
   "outputs": [],
   "source": [
    "a = loaded_model.predict_classes(data_1)\n"
   ]
  },
  {
   "cell_type": "code",
   "execution_count": 73,
   "metadata": {},
   "outputs": [],
   "source": [
    "b = loaded_model.predict_classes(data_2)"
   ]
  },
  {
   "cell_type": "code",
   "execution_count": 74,
   "metadata": {},
   "outputs": [],
   "source": [
    "c = loaded_model.predict_classes(data_3)"
   ]
  },
  {
   "cell_type": "code",
   "execution_count": 75,
   "metadata": {},
   "outputs": [],
   "source": [
    "#plotting the curves \n",
    "import matplotlib.pyplot as plt\n"
   ]
  },
  {
   "cell_type": "code",
   "execution_count": 79,
   "metadata": {},
   "outputs": [
    {
     "data": {
      "text/plain": [
       "[<matplotlib.lines.Line2D at 0x24593c033c8>]"
      ]
     },
     "execution_count": 79,
     "metadata": {},
     "output_type": "execute_result"
    },
    {
     "data": {
      "image/png": "[encoded data removed]",
      "text/plain": [
       "<Figure size 432x288 with 4 Axes>"
      ]
     },
     "metadata": {},
     "output_type": "display_data"
    }
   ],
   "source": [
    "#\n",
    "f, (ax1, ax2, ax3, ax4) = plt.subplots(4,sharex = True, sharey = True)\n",
    "\n",
    "ax1.plot(a,color = 'b')\n",
    "\n"
   ]
  },
  {
   "cell_type": "code",
   "execution_count": 65,
   "metadata": {},
   "outputs": [
    {
     "data": {
      "text/plain": [
       "array([1.0059595e-08, 1.0059595e-08, 1.0059595e-08, ..., 1.7714204e-03,\n",
       "       1.7714204e-03, 1.7714204e-03], dtype=float32)"
      ]
     },
     "execution_count": 65,
     "metadata": {},
     "output_type": "execute_result"
    }
   ],
   "source": []
  },
  {
   "cell_type": "code",
   "execution_count": null,
   "metadata": {},
   "outputs": [],
   "source": []
  }
 ],
 "metadata": {
  "kernelspec": {
   "display_name": "Python 3",
   "language": "python",
   "name": "python3"
  },
  "language_info": {
   "codemirror_mode": {
    "name": "ipython",
    "version": 3
   },
   "file_extension": ".py",
   "mimetype": "text/x-python",
   "name": "python",
   "nbconvert_exporter": "python",
   "pygments_lexer": "ipython3",
   "version": "3.6.5"
  }
 },
 "nbformat": 4,
 "nbformat_minor": 2
}
