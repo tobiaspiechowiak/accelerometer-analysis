{
 "cells": [
  {
   "cell_type": "code",
   "execution_count": 14,
   "metadata": {},
   "outputs": [],
   "source": [
    "#import packages \n",
    "import numpy as np\n",
    "import pandas as pd\n",
    "from tensorflow import keras "
   ]
  },
  {
   "cell_type": "code",
   "execution_count": 15,
   "metadata": {},
   "outputs": [],
   "source": [
    "#loading weights\n",
    "#load the saved model \n",
    "str = 'SittingChewing_Walking'\n",
    "json_file = open(str + '.json', 'r')\n",
    "loaded_model_json = json_file.read()\n",
    "loaded_model = keras.models.model_from_json(loaded_model_json)\n",
    "\n",
    "#load weights\n",
    "loaded_model.load_weights(str + '.h5')\n",
    "\n"
   ]
  },
  {
   "cell_type": "code",
   "execution_count": 19,
   "metadata": {},
   "outputs": [],
   "source": [
    "#load daten\n",
    "X = np.load('TestX_acceleration_4classes.npy')\n",
    "Y_OHC = np.load('TestY_OHC_acceleration_4classes.npy')\n",
    "Y =  np.load('TestY_acceleration_4classes.npy')\n"
   ]
  },
  {
   "cell_type": "code",
   "execution_count": 22,
   "metadata": {},
   "outputs": [
    {
     "name": "stdout",
     "output_type": "stream",
     "text": [
      "291293/291293 [==============================] - 2s 8us/step\n"
     ]
    },
    {
     "data": {
      "text/plain": [
       "[0.09172706887211551, 0.741222755094362]"
      ]
     },
     "execution_count": 22,
     "metadata": {},
     "output_type": "execute_result"
    }
   ],
   "source": [
    "loaded_model.compile(loss='mean_squared_error',\n",
    "    optimizer='Adam',\n",
    "           metrics=['categorical_accuracy'])\n",
    "loaded_model.evaluate(X,Y_OHC,verbose=1)"
   ]
  },
  {
   "cell_type": "code",
   "execution_count": 27,
   "metadata": {},
   "outputs": [],
   "source": [
    "#plot confusion matrix \n",
    "from sklearn.metrics import confusion_matrix\n",
    "import matplotlib.pyplot as plt\n",
    "\n",
    "cfm = confusion_matrix(Y,loaded_model.predict_classes(X)) "
   ]
  },
  {
   "cell_type": "code",
   "execution_count": 32,
   "metadata": {},
   "outputs": [
    {
     "data": {
      "text/plain": [
       "array([[ 39751,    624,  50780,    179],\n",
       "       [  1663,  20638,   2535,   1414],\n",
       "       [ 13579,    312, 145835,    301],\n",
       "       [   732,   1904,   1357,   9689]], dtype=int64)"
      ]
     },
     "execution_count": 32,
     "metadata": {},
     "output_type": "execute_result"
    }
   ],
   "source": [
    "cfm"
   ]
  },
  {
   "cell_type": "code",
   "execution_count": 28,
   "metadata": {},
   "outputs": [],
   "source": [
    "a = [0 for x in range(4)]\n",
    "cfm_norm = np.zeros((4,4))#[[0 for x in range(5)] for y in range(5)]"
   ]
  },
  {
   "cell_type": "code",
   "execution_count": 29,
   "metadata": {},
   "outputs": [
    {
     "data": {
      "text/plain": [
       "[0, 0, 0, 0]"
      ]
     },
     "execution_count": 29,
     "metadata": {},
     "output_type": "execute_result"
    }
   ],
   "source": [
    "a"
   ]
  },
  {
   "cell_type": "code",
   "execution_count": 33,
   "metadata": {},
   "outputs": [],
   "source": [
    "for idx in range(4):\n",
    "    cfm_norm[idx,:] = cfm[idx,:] / sum(cfm[idx,:]) #len(testY[testY == idx + 1])      "
   ]
  },
  {
   "cell_type": "code",
   "execution_count": 34,
   "metadata": {},
   "outputs": [],
   "source": [
    "cfm_norm = np.around(cfm_norm,decimals=3)"
   ]
  },
  {
   "cell_type": "code",
   "execution_count": 39,
   "metadata": {},
   "outputs": [
    {
     "data": {
      "image/png": "[encoded data removed]",
      "text/plain": [
       "<Figure size 720x720 with 1 Axes>"
      ]
     },
     "metadata": {},
     "output_type": "display_data"
    }
   ],
   "source": [
    "#nicer confusion matrix\n",
    "fig, ax = plt.subplots(figsize = (10, 10))\n",
    "ax.matshow(cfm_norm,cmap=plt.cm.Blues,alpha=0.7)\n",
    "\n",
    "for i in range(cfm_norm.shape[0]):\n",
    "    for j in range(cfm_norm.shape[1]):\n",
    "        ax.text(x=j,y=i, s=cfm_norm[i,j],va='center', ha= 'center')\n",
    "\n",
    "ax.set_xticks([0,1,2,3])\n",
    "ax.set_yticks([0,1,2,3])\n",
    "ax.set_xticklabels(['Sitting Chewing','Walking','Sitting','Walking Chewing'])\n",
    "ax.set_yticklabels(['Sitting Chewing','Walking','Sitting','Walking Chewing'])\n",
    "ax.yaxis.set_label_coords(1.08,0.5)\n",
    "ax.xaxis.set_label_coords(0.51,-0.04)\n",
    "ax.set_xlabel('Predicted Class',fontsize=15)\n",
    "ax.set_ylabel('True Class',fontsize=15)\n",
    "plt.show()\n"
   ]
  },
  {
   "cell_type": "code",
   "execution_count": 41,
   "metadata": {},
   "outputs": [],
   "source": [
    "fig.savefig('4Class_confusion matrix.png',dpi=100)"
   ]
  },
  {
   "cell_type": "code",
   "execution_count": null,
   "metadata": {},
   "outputs": [],
   "source": []
  }
 ],
 "metadata": {
  "kernelspec": {
   "display_name": "Python 3",
   "language": "python",
   "name": "python3"
  },
  "language_info": {
   "codemirror_mode": {
    "name": "ipython",
    "version": 3
   },
   "file_extension": ".py",
   "mimetype": "text/x-python",
   "name": "python",
   "nbconvert_exporter": "python",
   "pygments_lexer": "ipython3",
   "version": "3.6.5"
  }
 },
 "nbformat": 4,
 "nbformat_minor": 2
}
