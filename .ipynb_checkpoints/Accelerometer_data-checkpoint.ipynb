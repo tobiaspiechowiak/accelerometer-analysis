{
 "cells": [
  {
   "cell_type": "code",
   "execution_count": 171,
   "metadata": {},
   "outputs": [],
   "source": [
    "#import packages \n",
    "import numpy as np\n",
    "import pandas as pd\n",
    "from tensorflow import keras \n"
   ]
  },
  {
   "cell_type": "code",
   "execution_count": 172,
   "metadata": {},
   "outputs": [],
   "source": [
    "#import data \n",
    "path = 'data/'\n",
    "data_1 = pd.read_csv(path + '20180821 - sitting_chewing.csv').values\n",
    "data_2 = pd.read_csv(path + '20180905 - walking.csv').values"
   ]
  },
  {
   "cell_type": "code",
   "execution_count": 173,
   "metadata": {},
   "outputs": [
    {
     "data": {
      "text/plain": [
       "array([[  752, -3920, -1424,  4238],\n",
       "       [ 1024, -3808, -1616,  4262],\n",
       "       [ 1088, -4112, -1648,  4562],\n",
       "       ...,\n",
       "       [  576, -3952, -1264,  4189],\n",
       "       [  624, -3968, -1568,  4312],\n",
       "       [  608, -3760, -1248,  4008]], dtype=int64)"
      ]
     },
     "execution_count": 173,
     "metadata": {},
     "output_type": "execute_result"
    }
   ],
   "source": [
    "data_1"
   ]
  },
  {
   "cell_type": "code",
   "execution_count": 174,
   "metadata": {},
   "outputs": [
    {
     "data": {
      "text/plain": [
       "array([[ 1584, -3856,  -928,  4271],\n",
       "       [ 1648, -3872,  -912,  4306],\n",
       "       [ 1408, -3872,  -912,  4220],\n",
       "       ...,\n",
       "       [  976, -3328,    64,  3469],\n",
       "       [ 1312, -3264,   -32,  3518],\n",
       "       [ 1392, -3264,   192,  3554]], dtype=int64)"
      ]
     },
     "execution_count": 174,
     "metadata": {},
     "output_type": "execute_result"
    }
   ],
   "source": [
    "data_2"
   ]
  },
  {
   "cell_type": "code",
   "execution_count": 175,
   "metadata": {},
   "outputs": [],
   "source": [
    "#get velocity \n",
    "vel_1 = np.diff(data_1,axis=0)\n",
    "vel_2 = np.diff(data_2,axis=0)"
   ]
  },
  {
   "cell_type": "code",
   "execution_count": 176,
   "metadata": {},
   "outputs": [],
   "source": [
    "data_1 = np.hstack([data_1[:len(data_1)-1,:],vel_1])\n",
    "data_2 = np.hstack([data_2[:len(data_2)-1,],vel_2])"
   ]
  },
  {
   "cell_type": "code",
   "execution_count": 177,
   "metadata": {},
   "outputs": [
    {
     "data": {
      "text/plain": [
       "array([[ 272,  112, -192,   24],\n",
       "       [  64, -304,  -32,  300],\n",
       "       [-336,  -48,   48,  -42],\n",
       "       ...,\n",
       "       [  16,  -16,  304,  -85],\n",
       "       [  48,  -16, -304,  123],\n",
       "       [ -16,  208,  320, -304]], dtype=int64)"
      ]
     },
     "execution_count": 177,
     "metadata": {},
     "output_type": "execute_result"
    }
   ],
   "source": [
    "vel_1\n"
   ]
  },
  {
   "cell_type": "code",
   "execution_count": 178,
   "metadata": {},
   "outputs": [],
   "source": [
    "data_1 = np.hstack([data_1, np.zeros(len(data_1)).reshape(len(data_1),1)])\n",
    "data_2 = np.hstack([data_2, np.ones(len(data_2)).reshape(len(data_2),1)])"
   ]
  },
  {
   "cell_type": "code",
   "execution_count": 179,
   "metadata": {},
   "outputs": [],
   "source": [
    "data = np.vstack([data_1, data_2])\n",
    "X = data[:,:data.shape[1] - 1]\n",
    "Y = data[:,data.shape[1] - 1]"
   ]
  },
  {
   "cell_type": "code",
   "execution_count": 180,
   "metadata": {},
   "outputs": [],
   "source": [
    "#standard scaling\n",
    "import sklearn.preprocessing as pre\n",
    "X_scaled =  pre.scale(X)"
   ]
  },
  {
   "cell_type": "code",
   "execution_count": 181,
   "metadata": {},
   "outputs": [],
   "source": [
    "#split into training and test set\n",
    "from sklearn.model_selection import train_test_split\n",
    "trainX, testX, trainY, testY = train_test_split(X_scaled,Y,test_size=0.2,random_state=0)"
   ]
  },
  {
   "cell_type": "code",
   "execution_count": 182,
   "metadata": {},
   "outputs": [],
   "source": [
    "#do one-hot encoding\n",
    "from sklearn.preprocessing import OneHotEncoder \n",
    "from sklearn.preprocessing import LabelEncoder\n",
    "\n",
    "enc = OneHotEncoder(sparse=False)"
   ]
  },
  {
   "cell_type": "code",
   "execution_count": 183,
   "metadata": {},
   "outputs": [],
   "source": [
    "integer_encoded_train = trainY.reshape(len(trainY), 1)\n",
    "onehot_encoded_train = enc.fit_transform(integer_encoded_train)\n",
    "\n",
    "integer_encoded_test = testY.reshape(len(testY), 1)\n",
    "onehot_encoded_test = enc.fit_transform(integer_encoded_test)"
   ]
  },
  {
   "cell_type": "code",
   "execution_count": 184,
   "metadata": {},
   "outputs": [
    {
     "data": {
      "text/plain": [
       "array([[1., 0.],\n",
       "       [1., 0.],\n",
       "       [1., 0.],\n",
       "       ...,\n",
       "       [0., 1.],\n",
       "       [0., 1.],\n",
       "       [1., 0.]])"
      ]
     },
     "execution_count": 184,
     "metadata": {},
     "output_type": "execute_result"
    }
   ],
   "source": [
    "onehot_encoded_train"
   ]
  },
  {
   "cell_type": "code",
   "execution_count": 185,
   "metadata": {},
   "outputs": [],
   "source": [
    "#set up neural network\n",
    "model = keras.Sequential()\n"
   ]
  },
  {
   "cell_type": "code",
   "execution_count": 186,
   "metadata": {},
   "outputs": [],
   "source": [
    "model.add(keras.layers.Dense(\n",
    "  units = trainX.shape[1] - 1,\n",
    "  input_dim = trainX.shape[1],\n",
    "  activation = 'tanh'\n",
    "))\n",
    "\n",
    "model.add(keras.layers.Dense(\n",
    "  units = onehot_encoded_train.shape[1],\n",
    "  input_dim = trainX.shape[1],\n",
    "    activation = 'softmax'    \n",
    "))\n"
   ]
  },
  {
   "cell_type": "code",
   "execution_count": 187,
   "metadata": {},
   "outputs": [],
   "source": [
    "model.compile(loss = 'mean_squared_error',\n",
    "             optimizer = 'Adam',\n",
    "             metrics = ['categorical_accuracy'])"
   ]
  },
  {
   "cell_type": "code",
   "execution_count": 188,
   "metadata": {},
   "outputs": [
    {
     "name": "stdout",
     "output_type": "stream",
     "text": [
      "Train on 116960 samples, validate on 12996 samples\n",
      "Epoch 1/100\n",
      "116960/116960 [==============================] - 2s 14us/step - loss: 0.1803 - categorical_accuracy: 0.7673 - val_loss: 0.1079 - val_categorical_accuracy: 0.8954\n",
      "Epoch 2/100\n",
      "116960/116960 [==============================] - 1s 10us/step - loss: 0.0825 - categorical_accuracy: 0.9119 - val_loss: 0.0685 - val_categorical_accuracy: 0.9218\n",
      "Epoch 3/100\n",
      "116960/116960 [==============================] - 1s 9us/step - loss: 0.0634 - categorical_accuracy: 0.9241 - val_loss: 0.0605 - val_categorical_accuracy: 0.9264\n",
      "Epoch 4/100\n",
      "116960/116960 [==============================] - 1s 9us/step - loss: 0.0581 - categorical_accuracy: 0.9291 - val_loss: 0.0569 - val_categorical_accuracy: 0.9308\n",
      "Epoch 5/100\n",
      "116960/116960 [==============================] - 1s 9us/step - loss: 0.0552 - categorical_accuracy: 0.9322 - val_loss: 0.0544 - val_categorical_accuracy: 0.9331\n",
      "Epoch 6/100\n",
      "116960/116960 [==============================] - 1s 10us/step - loss: 0.0529 - categorical_accuracy: 0.9346 - val_loss: 0.0521 - val_categorical_accuracy: 0.9358\n",
      "Epoch 7/100\n",
      "116960/116960 [==============================] - 1s 12us/step - loss: 0.0507 - categorical_accuracy: 0.9376 - val_loss: 0.0502 - val_categorical_accuracy: 0.9374\n",
      "Epoch 8/100\n",
      "116960/116960 [==============================] - 1s 10us/step - loss: 0.0491 - categorical_accuracy: 0.9395 - val_loss: 0.0492 - val_categorical_accuracy: 0.9396\n",
      "Epoch 9/100\n",
      "116960/116960 [==============================] - 2s 16us/step - loss: 0.0481 - categorical_accuracy: 0.9407 - val_loss: 0.0486 - val_categorical_accuracy: 0.9401\n",
      "Epoch 10/100\n",
      "116960/116960 [==============================] - 2s 19us/step - loss: 0.0474 - categorical_accuracy: 0.9417 - val_loss: 0.0482 - val_categorical_accuracy: 0.9408\n",
      "Epoch 11/100\n",
      "116960/116960 [==============================] - 2s 16us/step - loss: 0.0469 - categorical_accuracy: 0.9423 - val_loss: 0.0480 - val_categorical_accuracy: 0.9421\n",
      "Epoch 12/100\n",
      "116960/116960 [==============================] - 2s 14us/step - loss: 0.0465 - categorical_accuracy: 0.9427 - val_loss: 0.0477 - val_categorical_accuracy: 0.9420\n",
      "Epoch 13/100\n",
      "116960/116960 [==============================] - 2s 14us/step - loss: 0.0462 - categorical_accuracy: 0.9429 - val_loss: 0.0477 - val_categorical_accuracy: 0.9410\n",
      "Epoch 14/100\n",
      "116960/116960 [==============================] - 2s 17us/step - loss: 0.0460 - categorical_accuracy: 0.9430 - val_loss: 0.0473 - val_categorical_accuracy: 0.9419\n",
      "Epoch 15/100\n",
      "116960/116960 [==============================] - 1s 13us/step - loss: 0.0458 - categorical_accuracy: 0.9433 - val_loss: 0.0472 - val_categorical_accuracy: 0.9418\n",
      "Epoch 16/100\n",
      "116960/116960 [==============================] - 2s 13us/step - loss: 0.0456 - categorical_accuracy: 0.9431 - val_loss: 0.0470 - val_categorical_accuracy: 0.9427\n",
      "Epoch 17/100\n",
      "116960/116960 [==============================] - 2s 14us/step - loss: 0.0455 - categorical_accuracy: 0.9432 - val_loss: 0.0471 - val_categorical_accuracy: 0.9421\n",
      "Epoch 18/100\n",
      "116960/116960 [==============================] - 1s 13us/step - loss: 0.0454 - categorical_accuracy: 0.9434 - val_loss: 0.0469 - val_categorical_accuracy: 0.9423\n",
      "Epoch 19/100\n",
      "116960/116960 [==============================] - 2s 20us/step - loss: 0.0453 - categorical_accuracy: 0.9434 - val_loss: 0.0471 - val_categorical_accuracy: 0.9407\n",
      "Epoch 20/100\n",
      "116960/116960 [==============================] - 2s 16us/step - loss: 0.0453 - categorical_accuracy: 0.9434 - val_loss: 0.0468 - val_categorical_accuracy: 0.9425\n",
      "Epoch 21/100\n",
      "116960/116960 [==============================] - 1s 12us/step - loss: 0.0452 - categorical_accuracy: 0.9433 - val_loss: 0.0470 - val_categorical_accuracy: 0.9410\n",
      "Epoch 22/100\n",
      "116960/116960 [==============================] - 1s 12us/step - loss: 0.0451 - categorical_accuracy: 0.9434 - val_loss: 0.0468 - val_categorical_accuracy: 0.9422\n",
      "Epoch 23/100\n",
      "116960/116960 [==============================] - 2s 18us/step - loss: 0.0451 - categorical_accuracy: 0.9435 - val_loss: 0.0468 - val_categorical_accuracy: 0.9420\n",
      "Epoch 24/100\n",
      "116960/116960 [==============================] - 2s 14us/step - loss: 0.0451 - categorical_accuracy: 0.9433 - val_loss: 0.0467 - val_categorical_accuracy: 0.9425\n",
      "Epoch 25/100\n",
      "116960/116960 [==============================] - 2s 14us/step - loss: 0.0450 - categorical_accuracy: 0.9437 - val_loss: 0.0466 - val_categorical_accuracy: 0.9424\n",
      "Epoch 26/100\n",
      "116960/116960 [==============================] - 2s 16us/step - loss: 0.0450 - categorical_accuracy: 0.9435 - val_loss: 0.0465 - val_categorical_accuracy: 0.9430\n",
      "Epoch 27/100\n",
      "116960/116960 [==============================] - 2s 16us/step - loss: 0.0449 - categorical_accuracy: 0.9436 - val_loss: 0.0466 - val_categorical_accuracy: 0.9428\n",
      "Epoch 28/100\n",
      "116960/116960 [==============================] - 1s 12us/step - loss: 0.0449 - categorical_accuracy: 0.9438 - val_loss: 0.0467 - val_categorical_accuracy: 0.9416\n",
      "Epoch 29/100\n",
      "116960/116960 [==============================] - 1s 11us/step - loss: 0.0449 - categorical_accuracy: 0.9438 - val_loss: 0.0466 - val_categorical_accuracy: 0.9426\n",
      "Epoch 30/100\n",
      "116960/116960 [==============================] - 1s 13us/step - loss: 0.0449 - categorical_accuracy: 0.9438 - val_loss: 0.0465 - val_categorical_accuracy: 0.9420\n",
      "Epoch 31/100\n",
      "116960/116960 [==============================] - 2s 14us/step - loss: 0.0448 - categorical_accuracy: 0.9438 - val_loss: 0.0465 - val_categorical_accuracy: 0.9425\n",
      "Epoch 32/100\n",
      "116960/116960 [==============================] - 2s 15us/step - loss: 0.0448 - categorical_accuracy: 0.9439 - val_loss: 0.0465 - val_categorical_accuracy: 0.9427\n",
      "Epoch 33/100\n",
      "116960/116960 [==============================] - 2s 17us/step - loss: 0.0448 - categorical_accuracy: 0.9438 - val_loss: 0.0464 - val_categorical_accuracy: 0.9424\n",
      "Epoch 34/100\n",
      "116960/116960 [==============================] - 2s 14us/step - loss: 0.0448 - categorical_accuracy: 0.9440 - val_loss: 0.0464 - val_categorical_accuracy: 0.9428\n",
      "Epoch 35/100\n",
      "116960/116960 [==============================] - 1s 11us/step - loss: 0.0447 - categorical_accuracy: 0.9439 - val_loss: 0.0466 - val_categorical_accuracy: 0.9420\n",
      "Epoch 36/100\n",
      "116960/116960 [==============================] - 1s 11us/step - loss: 0.0447 - categorical_accuracy: 0.9443 - val_loss: 0.0462 - val_categorical_accuracy: 0.9427\n",
      "Epoch 37/100\n",
      "116960/116960 [==============================] - 1s 10us/step - loss: 0.0447 - categorical_accuracy: 0.9442 - val_loss: 0.0463 - val_categorical_accuracy: 0.9431\n",
      "Epoch 38/100\n",
      "116960/116960 [==============================] - 1s 11us/step - loss: 0.0447 - categorical_accuracy: 0.9439 - val_loss: 0.0463 - val_categorical_accuracy: 0.9428\n",
      "Epoch 39/100\n",
      "116960/116960 [==============================] - 1s 10us/step - loss: 0.0447 - categorical_accuracy: 0.9441 - val_loss: 0.0463 - val_categorical_accuracy: 0.9431\n",
      "Epoch 40/100\n",
      "116960/116960 [==============================] - 1s 10us/step - loss: 0.0446 - categorical_accuracy: 0.9440 - val_loss: 0.0466 - val_categorical_accuracy: 0.9421\n",
      "Epoch 41/100\n",
      "116960/116960 [==============================] - 1s 10us/step - loss: 0.0446 - categorical_accuracy: 0.9441 - val_loss: 0.0463 - val_categorical_accuracy: 0.9432\n",
      "Epoch 42/100\n",
      "116960/116960 [==============================] - 1s 8us/step - loss: 0.0446 - categorical_accuracy: 0.9443 - val_loss: 0.0464 - val_categorical_accuracy: 0.9426\n",
      "Epoch 43/100\n",
      "116960/116960 [==============================] - 1s 8us/step - loss: 0.0446 - categorical_accuracy: 0.9441 - val_loss: 0.0464 - val_categorical_accuracy: 0.9418\n",
      "Epoch 44/100\n",
      "116960/116960 [==============================] - 1s 8us/step - loss: 0.0446 - categorical_accuracy: 0.9440 - val_loss: 0.0464 - val_categorical_accuracy: 0.9428\n",
      "Epoch 45/100\n",
      "116960/116960 [==============================] - 1s 8us/step - loss: 0.0446 - categorical_accuracy: 0.9440 - val_loss: 0.0461 - val_categorical_accuracy: 0.9434\n",
      "Epoch 46/100\n",
      "116960/116960 [==============================] - 1s 8us/step - loss: 0.0445 - categorical_accuracy: 0.9441 - val_loss: 0.0462 - val_categorical_accuracy: 0.9427\n",
      "Epoch 47/100\n"
     ]
    },
    {
     "name": "stdout",
     "output_type": "stream",
     "text": [
      "116960/116960 [==============================] - 1s 8us/step - loss: 0.0445 - categorical_accuracy: 0.9443 - val_loss: 0.0463 - val_categorical_accuracy: 0.9429\n",
      "Epoch 48/100\n",
      "116960/116960 [==============================] - 1s 8us/step - loss: 0.0445 - categorical_accuracy: 0.9444 - val_loss: 0.0461 - val_categorical_accuracy: 0.9433\n",
      "Epoch 49/100\n",
      "116960/116960 [==============================] - 1s 8us/step - loss: 0.0445 - categorical_accuracy: 0.9442 - val_loss: 0.0462 - val_categorical_accuracy: 0.9434\n",
      "Epoch 50/100\n",
      "116960/116960 [==============================] - 1s 8us/step - loss: 0.0445 - categorical_accuracy: 0.9443 - val_loss: 0.0462 - val_categorical_accuracy: 0.9430\n",
      "Epoch 51/100\n",
      "116960/116960 [==============================] - 1s 7us/step - loss: 0.0445 - categorical_accuracy: 0.9441 - val_loss: 0.0462 - val_categorical_accuracy: 0.9424\n",
      "Epoch 52/100\n",
      "116960/116960 [==============================] - 1s 7us/step - loss: 0.0444 - categorical_accuracy: 0.9444 - val_loss: 0.0465 - val_categorical_accuracy: 0.9421\n",
      "Epoch 53/100\n",
      "116960/116960 [==============================] - 1s 7us/step - loss: 0.0444 - categorical_accuracy: 0.9444 - val_loss: 0.0462 - val_categorical_accuracy: 0.9428\n",
      "Epoch 54/100\n",
      "116960/116960 [==============================] - 1s 8us/step - loss: 0.0444 - categorical_accuracy: 0.9443 - val_loss: 0.0462 - val_categorical_accuracy: 0.9431\n",
      "Epoch 55/100\n",
      "116960/116960 [==============================] - 1s 8us/step - loss: 0.0444 - categorical_accuracy: 0.9445 - val_loss: 0.0461 - val_categorical_accuracy: 0.9438\n",
      "Epoch 56/100\n",
      "116960/116960 [==============================] - 1s 7us/step - loss: 0.0444 - categorical_accuracy: 0.9445 - val_loss: 0.0461 - val_categorical_accuracy: 0.9430\n",
      "Epoch 57/100\n",
      "116960/116960 [==============================] - 1s 8us/step - loss: 0.0444 - categorical_accuracy: 0.9443 - val_loss: 0.0460 - val_categorical_accuracy: 0.9434\n",
      "Epoch 58/100\n",
      "116960/116960 [==============================] - 1s 8us/step - loss: 0.0444 - categorical_accuracy: 0.9445 - val_loss: 0.0460 - val_categorical_accuracy: 0.9433\n",
      "Epoch 59/100\n",
      "116960/116960 [==============================] - 1s 8us/step - loss: 0.0444 - categorical_accuracy: 0.9444 - val_loss: 0.0460 - val_categorical_accuracy: 0.9434\n",
      "Epoch 60/100\n",
      "116960/116960 [==============================] - 1s 7us/step - loss: 0.0443 - categorical_accuracy: 0.9446 - val_loss: 0.0461 - val_categorical_accuracy: 0.9434\n",
      "Epoch 61/100\n",
      "116960/116960 [==============================] - 1s 7us/step - loss: 0.0444 - categorical_accuracy: 0.9445 - val_loss: 0.0460 - val_categorical_accuracy: 0.9432\n",
      "Epoch 62/100\n",
      "116960/116960 [==============================] - 1s 7us/step - loss: 0.0443 - categorical_accuracy: 0.9442 - val_loss: 0.0459 - val_categorical_accuracy: 0.9431\n",
      "Epoch 63/100\n",
      "116960/116960 [==============================] - 1s 8us/step - loss: 0.0443 - categorical_accuracy: 0.9446 - val_loss: 0.0459 - val_categorical_accuracy: 0.9433\n",
      "Epoch 64/100\n",
      "116960/116960 [==============================] - 1s 8us/step - loss: 0.0443 - categorical_accuracy: 0.9445 - val_loss: 0.0461 - val_categorical_accuracy: 0.9436\n",
      "Epoch 65/100\n",
      "116960/116960 [==============================] - 1s 8us/step - loss: 0.0443 - categorical_accuracy: 0.9445 - val_loss: 0.0460 - val_categorical_accuracy: 0.9432\n",
      "Epoch 66/100\n",
      "116960/116960 [==============================] - 1s 7us/step - loss: 0.0443 - categorical_accuracy: 0.9446 - val_loss: 0.0461 - val_categorical_accuracy: 0.9429\n",
      "Epoch 67/100\n",
      "116960/116960 [==============================] - 1s 8us/step - loss: 0.0443 - categorical_accuracy: 0.9446 - val_loss: 0.0459 - val_categorical_accuracy: 0.9438\n",
      "Epoch 68/100\n",
      "116960/116960 [==============================] - 1s 8us/step - loss: 0.0443 - categorical_accuracy: 0.9445 - val_loss: 0.0459 - val_categorical_accuracy: 0.9438\n",
      "Epoch 69/100\n",
      "116960/116960 [==============================] - 1s 7us/step - loss: 0.0443 - categorical_accuracy: 0.9446 - val_loss: 0.0458 - val_categorical_accuracy: 0.9441\n",
      "Epoch 70/100\n",
      "116960/116960 [==============================] - 1s 8us/step - loss: 0.0442 - categorical_accuracy: 0.9448 - val_loss: 0.0458 - val_categorical_accuracy: 0.9436\n",
      "Epoch 71/100\n",
      "116960/116960 [==============================] - 1s 8us/step - loss: 0.0442 - categorical_accuracy: 0.9449 - val_loss: 0.0460 - val_categorical_accuracy: 0.9435\n",
      "Epoch 72/100\n",
      "116960/116960 [==============================] - 1s 8us/step - loss: 0.0442 - categorical_accuracy: 0.9448 - val_loss: 0.0461 - val_categorical_accuracy: 0.9431\n",
      "Epoch 73/100\n",
      "116960/116960 [==============================] - 1s 8us/step - loss: 0.0442 - categorical_accuracy: 0.9447 - val_loss: 0.0460 - val_categorical_accuracy: 0.9441\n",
      "Epoch 74/100\n",
      "116960/116960 [==============================] - 1s 8us/step - loss: 0.0442 - categorical_accuracy: 0.9449 - val_loss: 0.0458 - val_categorical_accuracy: 0.9436\n",
      "Epoch 75/100\n",
      "116960/116960 [==============================] - 1s 7us/step - loss: 0.0442 - categorical_accuracy: 0.9447 - val_loss: 0.0459 - val_categorical_accuracy: 0.9439\n",
      "Epoch 76/100\n",
      "116960/116960 [==============================] - 1s 8us/step - loss: 0.0442 - categorical_accuracy: 0.9445 - val_loss: 0.0460 - val_categorical_accuracy: 0.9435\n",
      "Epoch 77/100\n",
      "116960/116960 [==============================] - 1s 8us/step - loss: 0.0442 - categorical_accuracy: 0.9449 - val_loss: 0.0458 - val_categorical_accuracy: 0.9438\n",
      "Epoch 78/100\n",
      "116960/116960 [==============================] - 1s 8us/step - loss: 0.0442 - categorical_accuracy: 0.9446 - val_loss: 0.0459 - val_categorical_accuracy: 0.9442\n",
      "Epoch 79/100\n",
      "116960/116960 [==============================] - 1s 10us/step - loss: 0.0441 - categorical_accuracy: 0.9447 - val_loss: 0.0457 - val_categorical_accuracy: 0.9440\n",
      "Epoch 80/100\n",
      "116960/116960 [==============================] - 1s 9us/step - loss: 0.0441 - categorical_accuracy: 0.9449 - val_loss: 0.0458 - val_categorical_accuracy: 0.9439\n",
      "Epoch 81/100\n",
      "116960/116960 [==============================] - 1s 9us/step - loss: 0.0441 - categorical_accuracy: 0.9451 - val_loss: 0.0457 - val_categorical_accuracy: 0.9444\n",
      "Epoch 82/100\n",
      "116960/116960 [==============================] - 2s 14us/step - loss: 0.0441 - categorical_accuracy: 0.9447 - val_loss: 0.0458 - val_categorical_accuracy: 0.9433\n",
      "Epoch 83/100\n",
      "116960/116960 [==============================] - 2s 13us/step - loss: 0.0441 - categorical_accuracy: 0.9445 - val_loss: 0.0459 - val_categorical_accuracy: 0.9443\n",
      "Epoch 84/100\n",
      "116960/116960 [==============================] - 1s 9us/step - loss: 0.0441 - categorical_accuracy: 0.9449 - val_loss: 0.0457 - val_categorical_accuracy: 0.9439\n",
      "Epoch 85/100\n",
      "116960/116960 [==============================] - 1s 11us/step - loss: 0.0441 - categorical_accuracy: 0.9448 - val_loss: 0.0457 - val_categorical_accuracy: 0.9451\n",
      "Epoch 86/100\n",
      "116960/116960 [==============================] - 1s 9us/step - loss: 0.0440 - categorical_accuracy: 0.9451 - val_loss: 0.0458 - val_categorical_accuracy: 0.9439\n",
      "Epoch 87/100\n",
      "116960/116960 [==============================] - 1s 11us/step - loss: 0.0441 - categorical_accuracy: 0.9449 - val_loss: 0.0457 - val_categorical_accuracy: 0.9440\n",
      "Epoch 88/100\n",
      "116960/116960 [==============================] - 1s 10us/step - loss: 0.0441 - categorical_accuracy: 0.9449 - val_loss: 0.0457 - val_categorical_accuracy: 0.9430\n",
      "Epoch 89/100\n",
      "116960/116960 [==============================] - 1s 9us/step - loss: 0.0441 - categorical_accuracy: 0.9448 - val_loss: 0.0457 - val_categorical_accuracy: 0.9440\n",
      "Epoch 90/100\n",
      "116960/116960 [==============================] - 1s 9us/step - loss: 0.0440 - categorical_accuracy: 0.9447 - val_loss: 0.0456 - val_categorical_accuracy: 0.9437\n",
      "Epoch 91/100\n",
      "116960/116960 [==============================] - 1s 10us/step - loss: 0.0440 - categorical_accuracy: 0.9448 - val_loss: 0.0458 - val_categorical_accuracy: 0.9440\n",
      "Epoch 92/100\n",
      "116960/116960 [==============================] - 1s 11us/step - loss: 0.0440 - categorical_accuracy: 0.9448 - val_loss: 0.0457 - val_categorical_accuracy: 0.9439\n",
      "Epoch 93/100\n",
      "116960/116960 [==============================] - 1s 9us/step - loss: 0.0440 - categorical_accuracy: 0.9449 - val_loss: 0.0456 - val_categorical_accuracy: 0.9441\n",
      "Epoch 94/100\n"
     ]
    },
    {
     "name": "stdout",
     "output_type": "stream",
     "text": [
      "116960/116960 [==============================] - 1s 9us/step - loss: 0.0440 - categorical_accuracy: 0.9449 - val_loss: 0.0456 - val_categorical_accuracy: 0.9441\n",
      "Epoch 95/100\n",
      "116960/116960 [==============================] - 1s 7us/step - loss: 0.0440 - categorical_accuracy: 0.9451 - val_loss: 0.0456 - val_categorical_accuracy: 0.9442\n",
      "Epoch 96/100\n",
      "116960/116960 [==============================] - 1s 8us/step - loss: 0.0439 - categorical_accuracy: 0.9450 - val_loss: 0.0457 - val_categorical_accuracy: 0.9441\n",
      "Epoch 97/100\n",
      "116960/116960 [==============================] - 1s 7us/step - loss: 0.0439 - categorical_accuracy: 0.9453 - val_loss: 0.0458 - val_categorical_accuracy: 0.9438\n",
      "Epoch 98/100\n",
      "116960/116960 [==============================] - 1s 8us/step - loss: 0.0439 - categorical_accuracy: 0.9450 - val_loss: 0.0456 - val_categorical_accuracy: 0.9440\n",
      "Epoch 99/100\n",
      "116960/116960 [==============================] - 1s 7us/step - loss: 0.0440 - categorical_accuracy: 0.9449 - val_loss: 0.0455 - val_categorical_accuracy: 0.9444\n",
      "Epoch 100/100\n",
      "116960/116960 [==============================] - 1s 8us/step - loss: 0.0440 - categorical_accuracy: 0.9448 - val_loss: 0.0458 - val_categorical_accuracy: 0.9438\n"
     ]
    }
   ],
   "source": [
    "history = model.fit(trainX, onehot_encoded_train,\n",
    "                   batch_size = 100, epochs = 100,\n",
    "                   verbose = 1,\n",
    "                   validation_split = 0.1)"
   ]
  },
  {
   "cell_type": "code",
   "execution_count": 189,
   "metadata": {},
   "outputs": [
    {
     "name": "stdout",
     "output_type": "stream",
     "text": [
      "32490/32490 [==============================] - 0s 11us/step\n"
     ]
    },
    {
     "data": {
      "text/plain": [
       "[0.04377507546213741, 0.9453370267701318]"
      ]
     },
     "execution_count": 189,
     "metadata": {},
     "output_type": "execute_result"
    }
   ],
   "source": [
    "model.evaluate(testX,one_hot_test)"
   ]
  },
  {
   "cell_type": "code",
   "execution_count": 101,
   "metadata": {},
   "outputs": [
    {
     "data": {
      "text/plain": [
       "array([[  752., -3920., -1424.,  4238.],\n",
       "       [ 1024., -3808., -1616.,  4262.],\n",
       "       [ 1088., -4112., -1648.,  4562.],\n",
       "       ...,\n",
       "       [  976., -3328.,    64.,  3469.],\n",
       "       [ 1312., -3264.,   -32.,  3518.],\n",
       "       [ 1392., -3264.,   192.,  3554.]])"
      ]
     },
     "execution_count": 101,
     "metadata": {},
     "output_type": "execute_result"
    }
   ],
   "source": [
    "X"
   ]
  },
  {
   "cell_type": "code",
   "execution_count": 103,
   "metadata": {},
   "outputs": [
    {
     "data": {
      "text/plain": [
       "array([[ 272.,  112., -192.,   24.],\n",
       "       [  64., -304.,  -32.,  300.],\n",
       "       [-336.,  -48.,   48.,  -42.],\n",
       "       ...,\n",
       "       [  16.,  208.,  352., -206.],\n",
       "       [ 336.,   64.,  -96.,   49.],\n",
       "       [  80.,    0.,  224.,   36.]])"
      ]
     },
     "execution_count": 103,
     "metadata": {},
     "output_type": "execute_result"
    }
   ],
   "source": []
  },
  {
   "cell_type": "code",
   "execution_count": 209,
   "metadata": {},
   "outputs": [],
   "source": [
    "#plotting the curves \n",
    "import matplotlib.pyplot as plt\n"
   ]
  },
  {
   "cell_type": "code",
   "execution_count": 242,
   "metadata": {},
   "outputs": [
    {
     "data": {
      "image/png": "[encoded data removed]",
      "text/plain": [
       "<Figure size 432x288 with 4 Axes>"
      ]
     },
     "metadata": {},
     "output_type": "display_data"
    }
   ],
   "source": [
    "f, (ax1, ax2, ax3, ax4) = plt.subplots(4,sharex=True, sharey= True)\n",
    "ax1.plot(data[:,0])\n",
    "ax1.set_title('Acceleration')\n",
    "ax2.plot(data[:,1])\n",
    "ax3.plot(data[:,2])\n",
    "ax4.plot(data[:,3])\n",
    "f.savefig('Acceleration.png',dpi = 150)"
   ]
  },
  {
   "cell_type": "code",
   "execution_count": 243,
   "metadata": {},
   "outputs": [
    {
     "data": {
      "image/png": "[encoded data removed]",
      "text/plain": [
       "<Figure size 432x288 with 4 Axes>"
      ]
     },
     "metadata": {},
     "output_type": "display_data"
    }
   ],
   "source": [
    "f, (ax4, ax5, ax6, ax7) = plt.subplots(4,sharex=True, sharey= True)\n",
    "\n",
    "ax4.plot(data[:,4],color = 'r')\n",
    "ax4.set_title('Delta Acceleration')\n",
    "ax5.plot(data[:,5],color = 'r')\n",
    "ax6.plot(data[:,6],color = 'r')\n",
    "ax7.plot(data[:,7],color = 'r')\n",
    "f.savefig('Delta_Acceleration.png', dpi =150)"
   ]
  },
  {
   "cell_type": "code",
   "execution_count": 221,
   "metadata": {},
   "outputs": [
    {
     "data": {
      "text/plain": [
       "array([[ 272,  112, -192,   24],\n",
       "       [  64, -304,  -32,  300],\n",
       "       [-336,  -48,   48,  -42],\n",
       "       ...,\n",
       "       [  16,  -16,  304,  -85],\n",
       "       [  48,  -16, -304,  123],\n",
       "       [ -16,  208,  320, -304]], dtype=int64)"
      ]
     },
     "execution_count": 221,
     "metadata": {},
     "output_type": "execute_result"
    }
   ],
   "source": [
    "vel_1"
   ]
  },
  {
   "cell_type": "code",
   "execution_count": 223,
   "metadata": {},
   "outputs": [
    {
     "data": {
      "text/plain": [
       "960"
      ]
     },
     "execution_count": 223,
     "metadata": {},
     "output_type": "execute_result"
    }
   ],
   "source": [
    "vel_1.max()"
   ]
  },
  {
   "cell_type": "code",
   "execution_count": null,
   "metadata": {},
   "outputs": [],
   "source": []
  }
 ],
 "metadata": {
  "kernelspec": {
   "display_name": "Python 3",
   "language": "python",
   "name": "python3"
  },
  "language_info": {
   "codemirror_mode": {
    "name": "ipython",
    "version": 3
   },
   "file_extension": ".py",
   "mimetype": "text/x-python",
   "name": "python",
   "nbconvert_exporter": "python",
   "pygments_lexer": "ipython3",
   "version": "3.6.5"
  }
 },
 "nbformat": 4,
 "nbformat_minor": 2
}
